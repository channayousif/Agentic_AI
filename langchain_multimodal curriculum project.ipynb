{
  "cells": [
    {
      "cell_type": "markdown",
      "metadata": {
        "id": "view-in-github",
        "colab_type": "text"
      },
      "source": [
        "<a href=\"https://colab.research.google.com/github/channayousif/Agentic_AI/blob/main/langchain_multimodal%20curriculum%20project.ipynb\" target=\"_parent\"><img src=\"https://colab.research.google.com/assets/colab-badge.svg\" alt=\"Open In Colab\"/></a>"
      ]
    },
    {
      "cell_type": "markdown",
      "id": "812a4dbc-fe04-4b84-bdf9-390045e30806",
      "metadata": {
        "id": "812a4dbc-fe04-4b84-bdf9-390045e30806"
      },
      "source": [
        "# Multi-modal RAG with LangChain"
      ]
    },
    {
      "cell_type": "markdown",
      "id": "ecXPgawqG7XH",
      "metadata": {
        "id": "ecXPgawqG7XH"
      },
      "source": [
        "## SetUp\n",
        "\n",
        "Install the dependencies you need to run the notebook."
      ]
    },
    {
      "cell_type": "code",
      "execution_count": 3,
      "id": "133b74f6",
      "metadata": {
        "id": "133b74f6",
        "colab": {
          "base_uri": "https://localhost:8080/"
        },
        "outputId": "d7d6453f-5d20-49c8-bbc2-7ace32d7d3dc"
      },
      "outputs": [
        {
          "output_type": "stream",
          "name": "stdout",
          "text": [
            "Reading package lists... Done\n",
            "Building dependency tree... Done\n",
            "Reading state information... Done\n",
            "The following additional packages will be installed:\n",
            "  tesseract-ocr-eng tesseract-ocr-osd\n",
            "The following NEW packages will be installed:\n",
            "  libmagic-dev poppler-utils tesseract-ocr tesseract-ocr-eng tesseract-ocr-osd\n",
            "0 upgraded, 5 newly installed, 0 to remove and 19 not upgraded.\n",
            "Need to get 5,107 kB of archives.\n",
            "After this operation, 16.7 MB of additional disk space will be used.\n",
            "Get:1 http://archive.ubuntu.com/ubuntu jammy-updates/main amd64 libmagic-dev amd64 1:5.41-3ubuntu0.1 [105 kB]\n",
            "Get:2 http://archive.ubuntu.com/ubuntu jammy-updates/main amd64 poppler-utils amd64 22.02.0-2ubuntu0.6 [186 kB]\n",
            "Get:3 http://archive.ubuntu.com/ubuntu jammy/universe amd64 tesseract-ocr-eng all 1:4.00~git30-7274cfa-1.1 [1,591 kB]\n",
            "Get:4 http://archive.ubuntu.com/ubuntu jammy/universe amd64 tesseract-ocr-osd all 1:4.00~git30-7274cfa-1.1 [2,990 kB]\n",
            "Get:5 http://archive.ubuntu.com/ubuntu jammy/universe amd64 tesseract-ocr amd64 4.1.1-2.1build1 [236 kB]\n",
            "Fetched 5,107 kB in 0s (13.8 MB/s)\n",
            "debconf: unable to initialize frontend: Dialog\n",
            "debconf: (No usable dialog-like program is installed, so the dialog based frontend cannot be used. at /usr/share/perl5/Debconf/FrontEnd/Dialog.pm line 78, <> line 5.)\n",
            "debconf: falling back to frontend: Readline\n",
            "debconf: unable to initialize frontend: Readline\n",
            "debconf: (This frontend requires a controlling tty.)\n",
            "debconf: falling back to frontend: Teletype\n",
            "dpkg-preconfigure: unable to re-open stdin: \n",
            "Selecting previously unselected package libmagic-dev:amd64.\n",
            "(Reading database ... 124926 files and directories currently installed.)\n",
            "Preparing to unpack .../libmagic-dev_1%3a5.41-3ubuntu0.1_amd64.deb ...\n",
            "Unpacking libmagic-dev:amd64 (1:5.41-3ubuntu0.1) ...\n",
            "Selecting previously unselected package poppler-utils.\n",
            "Preparing to unpack .../poppler-utils_22.02.0-2ubuntu0.6_amd64.deb ...\n",
            "Unpacking poppler-utils (22.02.0-2ubuntu0.6) ...\n",
            "Selecting previously unselected package tesseract-ocr-eng.\n",
            "Preparing to unpack .../tesseract-ocr-eng_1%3a4.00~git30-7274cfa-1.1_all.deb ...\n",
            "Unpacking tesseract-ocr-eng (1:4.00~git30-7274cfa-1.1) ...\n",
            "Selecting previously unselected package tesseract-ocr-osd.\n",
            "Preparing to unpack .../tesseract-ocr-osd_1%3a4.00~git30-7274cfa-1.1_all.deb ...\n",
            "Unpacking tesseract-ocr-osd (1:4.00~git30-7274cfa-1.1) ...\n",
            "Selecting previously unselected package tesseract-ocr.\n",
            "Preparing to unpack .../tesseract-ocr_4.1.1-2.1build1_amd64.deb ...\n",
            "Unpacking tesseract-ocr (4.1.1-2.1build1) ...\n",
            "Setting up tesseract-ocr-eng (1:4.00~git30-7274cfa-1.1) ...\n",
            "Setting up libmagic-dev:amd64 (1:5.41-3ubuntu0.1) ...\n",
            "Setting up tesseract-ocr-osd (1:4.00~git30-7274cfa-1.1) ...\n",
            "Setting up poppler-utils (22.02.0-2ubuntu0.6) ...\n",
            "Setting up tesseract-ocr (4.1.1-2.1build1) ...\n",
            "Processing triggers for man-db (2.10.2-1) ...\n"
          ]
        }
      ],
      "source": [
        "# for linux\n",
        "!sudo apt-get install poppler-utils tesseract-ocr libmagic-dev\n",
        "\n",
        "# for mac\n",
        "# %brew install poppler tesseract libmagic"
      ]
    },
    {
      "cell_type": "code",
      "execution_count": 4,
      "id": "2nDWBTrhn-_M",
      "metadata": {
        "id": "2nDWBTrhn-_M",
        "outputId": "0f0df636-2eae-4cfe-e3af-400e55e04fcf",
        "colab": {
          "base_uri": "https://localhost:8080/"
        }
      },
      "outputs": [
        {
          "output_type": "stream",
          "name": "stdout",
          "text": [
            "\u001b[?25l     \u001b[90m━━━━━━━━━━━━━━━━━━━━━━━━━━━━━━━━━━━━━━━━\u001b[0m \u001b[32m0.0/981.5 kB\u001b[0m \u001b[31m?\u001b[0m eta \u001b[36m-:--:--\u001b[0m\r\u001b[2K     \u001b[91m━━━━━━━━━━━━━━━━━\u001b[0m\u001b[91m╸\u001b[0m\u001b[90m━━━━━━━━━━━━━━━━━━━━━━\u001b[0m \u001b[32m440.3/981.5 kB\u001b[0m \u001b[31m13.8 MB/s\u001b[0m eta \u001b[36m0:00:01\u001b[0m\r\u001b[2K     \u001b[91m━━━━━━━━━━━━━━━━━━━━━━━━━━━━━━━━━━━━━━━\u001b[0m\u001b[91m╸\u001b[0m \u001b[32m972.8/981.5 kB\u001b[0m \u001b[31m19.4 MB/s\u001b[0m eta \u001b[36m0:00:01\u001b[0m\r\u001b[2K     \u001b[90m━━━━━━━━━━━━━━━━━━━━━━━━━━━━━━━━━━━━━━━━\u001b[0m \u001b[32m981.5/981.5 kB\u001b[0m \u001b[31m12.7 MB/s\u001b[0m eta \u001b[36m0:00:00\u001b[0m\n",
            "\u001b[?25h  Preparing metadata (setup.py) ... \u001b[?25l\u001b[?25hdone\n",
            "\u001b[2K     \u001b[90m━━━━━━━━━━━━━━━━━━━━━━━━━━━━━━━━━━━━━━━━\u001b[0m \u001b[32m48.2/48.2 kB\u001b[0m \u001b[31m2.0 MB/s\u001b[0m eta \u001b[36m0:00:00\u001b[0m\n",
            "\u001b[2K     \u001b[90m━━━━━━━━━━━━━━━━━━━━━━━━━━━━━━━━━━━━━━━━\u001b[0m \u001b[32m117.0/117.0 kB\u001b[0m \u001b[31m5.5 MB/s\u001b[0m eta \u001b[36m0:00:00\u001b[0m\n",
            "\u001b[?25h  Preparing metadata (setup.py) ... \u001b[?25l\u001b[?25hdone\n",
            "\u001b[2K   \u001b[90m━━━━━━━━━━━━━━━━━━━━━━━━━━━━━━━━━━━━━━━━\u001b[0m \u001b[32m244.3/244.3 kB\u001b[0m \u001b[31m10.1 MB/s\u001b[0m eta \u001b[36m0:00:00\u001b[0m\n",
            "\u001b[2K   \u001b[90m━━━━━━━━━━━━━━━━━━━━━━━━━━━━━━━━━━━━━━━━\u001b[0m \u001b[32m472.8/472.8 kB\u001b[0m \u001b[31m17.0 MB/s\u001b[0m eta \u001b[36m0:00:00\u001b[0m\n",
            "\u001b[2K   \u001b[90m━━━━━━━━━━━━━━━━━━━━━━━━━━━━━━━━━━━━━━━━\u001b[0m \u001b[32m48.8/48.8 kB\u001b[0m \u001b[31m1.9 MB/s\u001b[0m eta \u001b[36m0:00:00\u001b[0m\n",
            "\u001b[2K   \u001b[90m━━━━━━━━━━━━━━━━━━━━━━━━━━━━━━━━━━━━━━━━\u001b[0m \u001b[32m5.6/5.6 MB\u001b[0m \u001b[31m46.9 MB/s\u001b[0m eta \u001b[36m0:00:00\u001b[0m\n",
            "\u001b[2K   \u001b[90m━━━━━━━━━━━━━━━━━━━━━━━━━━━━━━━━━━━━━━━━\u001b[0m \u001b[32m112.5/112.5 kB\u001b[0m \u001b[31m5.0 MB/s\u001b[0m eta \u001b[36m0:00:00\u001b[0m\n",
            "\u001b[2K   \u001b[90m━━━━━━━━━━━━━━━━━━━━━━━━━━━━━━━━━━━━━━━━\u001b[0m \u001b[32m590.6/590.6 kB\u001b[0m \u001b[31m20.7 MB/s\u001b[0m eta \u001b[36m0:00:00\u001b[0m\n",
            "\u001b[2K   \u001b[90m━━━━━━━━━━━━━━━━━━━━━━━━━━━━━━━━━━━━━━━━\u001b[0m \u001b[32m514.6/514.6 kB\u001b[0m \u001b[31m17.0 MB/s\u001b[0m eta \u001b[36m0:00:00\u001b[0m\n",
            "\u001b[2K   \u001b[90m━━━━━━━━━━━━━━━━━━━━━━━━━━━━━━━━━━━━━━━━\u001b[0m \u001b[32m16.0/16.0 MB\u001b[0m \u001b[31m35.5 MB/s\u001b[0m eta \u001b[36m0:00:00\u001b[0m\n",
            "\u001b[2K   \u001b[90m━━━━━━━━━━━━━━━━━━━━━━━━━━━━━━━━━━━━━━━━\u001b[0m \u001b[32m1.2/1.2 MB\u001b[0m \u001b[31m32.4 MB/s\u001b[0m eta \u001b[36m0:00:00\u001b[0m\n",
            "\u001b[2K   \u001b[90m━━━━━━━━━━━━━━━━━━━━━━━━━━━━━━━━━━━━━━━━\u001b[0m \u001b[32m2.4/2.4 MB\u001b[0m \u001b[31m50.8 MB/s\u001b[0m eta \u001b[36m0:00:00\u001b[0m\n",
            "\u001b[2K   \u001b[90m━━━━━━━━━━━━━━━━━━━━━━━━━━━━━━━━━━━━━━━━\u001b[0m \u001b[32m298.7/298.7 kB\u001b[0m \u001b[31m12.9 MB/s\u001b[0m eta \u001b[36m0:00:00\u001b[0m\n",
            "\u001b[2K   \u001b[90m━━━━━━━━━━━━━━━━━━━━━━━━━━━━━━━━━━━━━━━━\u001b[0m \u001b[32m167.1/167.1 kB\u001b[0m \u001b[31m7.0 MB/s\u001b[0m eta \u001b[36m0:00:00\u001b[0m\n",
            "\u001b[2K   \u001b[90m━━━━━━━━━━━━━━━━━━━━━━━━━━━━━━━━━━━━━━━━\u001b[0m \u001b[32m3.1/3.1 MB\u001b[0m \u001b[31m41.0 MB/s\u001b[0m eta \u001b[36m0:00:00\u001b[0m\n",
            "\u001b[2K   \u001b[90m━━━━━━━━━━━━━━━━━━━━━━━━━━━━━━━━━━━━━━━━\u001b[0m \u001b[32m1.8/1.8 MB\u001b[0m \u001b[31m38.2 MB/s\u001b[0m eta \u001b[36m0:00:00\u001b[0m\n",
            "\u001b[2K   \u001b[90m━━━━━━━━━━━━━━━━━━━━━━━━━━━━━━━━━━━━━━━━\u001b[0m \u001b[32m63.6/63.6 kB\u001b[0m \u001b[31m3.0 MB/s\u001b[0m eta \u001b[36m0:00:00\u001b[0m\n",
            "\u001b[2K   \u001b[90m━━━━━━━━━━━━━━━━━━━━━━━━━━━━━━━━━━━━━━━━\u001b[0m \u001b[32m50.9/50.9 kB\u001b[0m \u001b[31m2.3 MB/s\u001b[0m eta \u001b[36m0:00:00\u001b[0m\n",
            "\u001b[2K   \u001b[90m━━━━━━━━━━━━━━━━━━━━━━━━━━━━━━━━━━━━━━━━\u001b[0m \u001b[32m79.5/79.5 kB\u001b[0m \u001b[31m3.7 MB/s\u001b[0m eta \u001b[36m0:00:00\u001b[0m\n",
            "\u001b[2K   \u001b[90m━━━━━━━━━━━━━━━━━━━━━━━━━━━━━━━━━━━━━━━━\u001b[0m \u001b[32m13.3/13.3 MB\u001b[0m \u001b[31m44.7 MB/s\u001b[0m eta \u001b[36m0:00:00\u001b[0m\n",
            "\u001b[2K   \u001b[90m━━━━━━━━━━━━━━━━━━━━━━━━━━━━━━━━━━━━━━━━\u001b[0m \u001b[32m363.4/363.4 MB\u001b[0m \u001b[31m3.2 MB/s\u001b[0m eta \u001b[36m0:00:00\u001b[0m\n",
            "\u001b[2K   \u001b[90m━━━━━━━━━━━━━━━━━━━━━━━━━━━━━━━━━━━━━━━━\u001b[0m \u001b[32m13.8/13.8 MB\u001b[0m \u001b[31m63.7 MB/s\u001b[0m eta \u001b[36m0:00:00\u001b[0m\n",
            "\u001b[2K   \u001b[90m━━━━━━━━━━━━━━━━━━━━━━━━━━━━━━━━━━━━━━━━\u001b[0m \u001b[32m24.6/24.6 MB\u001b[0m \u001b[31m21.7 MB/s\u001b[0m eta \u001b[36m0:00:00\u001b[0m\n",
            "\u001b[2K   \u001b[90m━━━━━━━━━━━━━━━━━━━━━━━━━━━━━━━━━━━━━━━━\u001b[0m \u001b[32m883.7/883.7 kB\u001b[0m \u001b[31m9.0 MB/s\u001b[0m eta \u001b[36m0:00:00\u001b[0m\n",
            "\u001b[2K   \u001b[90m━━━━━━━━━━━━━━━━━━━━━━━━━━━━━━━━━━━━━━━━\u001b[0m \u001b[32m664.8/664.8 MB\u001b[0m \u001b[31m1.2 MB/s\u001b[0m eta \u001b[36m0:00:00\u001b[0m\n",
            "\u001b[2K   \u001b[90m━━━━━━━━━━━━━━━━━━━━━━━━━━━━━━━━━━━━━━━━\u001b[0m \u001b[32m211.5/211.5 MB\u001b[0m \u001b[31m3.0 MB/s\u001b[0m eta \u001b[36m0:00:00\u001b[0m\n",
            "\u001b[2K   \u001b[90m━━━━━━━━━━━━━━━━━━━━━━━━━━━━━━━━━━━━━━━━\u001b[0m \u001b[32m56.3/56.3 MB\u001b[0m \u001b[31m10.1 MB/s\u001b[0m eta \u001b[36m0:00:00\u001b[0m\n",
            "\u001b[2K   \u001b[90m━━━━━━━━━━━━━━━━━━━━━━━━━━━━━━━━━━━━━━━━\u001b[0m \u001b[32m127.9/127.9 MB\u001b[0m \u001b[31m6.7 MB/s\u001b[0m eta \u001b[36m0:00:00\u001b[0m\n",
            "\u001b[2K   \u001b[90m━━━━━━━━━━━━━━━━━━━━━━━━━━━━━━━━━━━━━━━━\u001b[0m \u001b[32m207.5/207.5 MB\u001b[0m \u001b[31m3.7 MB/s\u001b[0m eta \u001b[36m0:00:00\u001b[0m\n",
            "\u001b[2K   \u001b[90m━━━━━━━━━━━━━━━━━━━━━━━━━━━━━━━━━━━━━━━━\u001b[0m \u001b[32m21.1/21.1 MB\u001b[0m \u001b[31m37.7 MB/s\u001b[0m eta \u001b[36m0:00:00\u001b[0m\n",
            "\u001b[2K   \u001b[90m━━━━━━━━━━━━━━━━━━━━━━━━━━━━━━━━━━━━━━━━\u001b[0m \u001b[32m165.1/165.1 kB\u001b[0m \u001b[31m6.9 MB/s\u001b[0m eta \u001b[36m0:00:00\u001b[0m\n",
            "\u001b[2K   \u001b[90m━━━━━━━━━━━━━━━━━━━━━━━━━━━━━━━━━━━━━━━━\u001b[0m \u001b[32m114.6/114.6 kB\u001b[0m \u001b[31m5.2 MB/s\u001b[0m eta \u001b[36m0:00:00\u001b[0m\n",
            "\u001b[2K   \u001b[90m━━━━━━━━━━━━━━━━━━━━━━━━━━━━━━━━━━━━━━━━\u001b[0m \u001b[32m2.9/2.9 MB\u001b[0m \u001b[31m44.3 MB/s\u001b[0m eta \u001b[36m0:00:00\u001b[0m\n",
            "\u001b[2K   \u001b[90m━━━━━━━━━━━━━━━━━━━━━━━━━━━━━━━━━━━━━━━━\u001b[0m \u001b[32m46.0/46.0 kB\u001b[0m \u001b[31m1.5 MB/s\u001b[0m eta \u001b[36m0:00:00\u001b[0m\n",
            "\u001b[2K   \u001b[90m━━━━━━━━━━━━━━━━━━━━━━━━━━━━━━━━━━━━━━━━\u001b[0m \u001b[32m86.8/86.8 kB\u001b[0m \u001b[31m3.9 MB/s\u001b[0m eta \u001b[36m0:00:00\u001b[0m\n",
            "\u001b[?25h  Building wheel for langdetect (setup.py) ... \u001b[?25l\u001b[?25hdone\n",
            "  Building wheel for antlr4-python3-runtime (setup.py) ... \u001b[?25l\u001b[?25hdone\n",
            "\u001b[2K     \u001b[90m━━━━━━━━━━━━━━━━━━━━━━━━━━━━━━━━━━━━━━━━\u001b[0m \u001b[32m67.3/67.3 kB\u001b[0m \u001b[31m2.3 MB/s\u001b[0m eta \u001b[36m0:00:00\u001b[0m\n",
            "\u001b[?25h  Installing build dependencies ... \u001b[?25l\u001b[?25hdone\n",
            "  Getting requirements to build wheel ... \u001b[?25l\u001b[?25hdone\n",
            "  Preparing metadata (pyproject.toml) ... \u001b[?25l\u001b[?25hdone\n",
            "\u001b[2K   \u001b[90m━━━━━━━━━━━━━━━━━━━━━━━━━━━━━━━━━━━━━━━━\u001b[0m \u001b[32m611.1/611.1 kB\u001b[0m \u001b[31m11.7 MB/s\u001b[0m eta \u001b[36m0:00:00\u001b[0m\n",
            "\u001b[2K   \u001b[90m━━━━━━━━━━━━━━━━━━━━━━━━━━━━━━━━━━━━━━━━\u001b[0m \u001b[32m2.4/2.4 MB\u001b[0m \u001b[31m47.2 MB/s\u001b[0m eta \u001b[36m0:00:00\u001b[0m\n",
            "\u001b[2K   \u001b[90m━━━━━━━━━━━━━━━━━━━━━━━━━━━━━━━━━━━━━━━━\u001b[0m \u001b[32m1.2/1.2 MB\u001b[0m \u001b[31m46.9 MB/s\u001b[0m eta \u001b[36m0:00:00\u001b[0m\n",
            "\u001b[2K   \u001b[90m━━━━━━━━━━━━━━━━━━━━━━━━━━━━━━━━━━━━━━━━\u001b[0m \u001b[32m278.6/278.6 kB\u001b[0m \u001b[31m15.2 MB/s\u001b[0m eta \u001b[36m0:00:00\u001b[0m\n",
            "\u001b[2K   \u001b[90m━━━━━━━━━━━━━━━━━━━━━━━━━━━━━━━━━━━━━━━━\u001b[0m \u001b[32m94.8/94.8 kB\u001b[0m \u001b[31m5.5 MB/s\u001b[0m eta \u001b[36m0:00:00\u001b[0m\n",
            "\u001b[2K   \u001b[90m━━━━━━━━━━━━━━━━━━━━━━━━━━━━━━━━━━━━━━━━\u001b[0m \u001b[32m2.0/2.0 MB\u001b[0m \u001b[31m49.9 MB/s\u001b[0m eta \u001b[36m0:00:00\u001b[0m\n",
            "\u001b[2K   \u001b[90m━━━━━━━━━━━━━━━━━━━━━━━━━━━━━━━━━━━━━━━━\u001b[0m \u001b[32m101.6/101.6 kB\u001b[0m \u001b[31m4.8 MB/s\u001b[0m eta \u001b[36m0:00:00\u001b[0m\n",
            "\u001b[2K   \u001b[90m━━━━━━━━━━━━━━━━━━━━━━━━━━━━━━━━━━━━━━━━\u001b[0m \u001b[32m55.9/55.9 kB\u001b[0m \u001b[31m2.5 MB/s\u001b[0m eta \u001b[36m0:00:00\u001b[0m\n",
            "\u001b[2K   \u001b[90m━━━━━━━━━━━━━━━━━━━━━━━━━━━━━━━━━━━━━━━━\u001b[0m \u001b[32m177.4/177.4 kB\u001b[0m \u001b[31m8.1 MB/s\u001b[0m eta \u001b[36m0:00:00\u001b[0m\n",
            "\u001b[2K   \u001b[90m━━━━━━━━━━━━━━━━━━━━━━━━━━━━━━━━━━━━━━━━\u001b[0m \u001b[32m65.0/65.0 kB\u001b[0m \u001b[31m2.9 MB/s\u001b[0m eta \u001b[36m0:00:00\u001b[0m\n",
            "\u001b[2K   \u001b[90m━━━━━━━━━━━━━━━━━━━━━━━━━━━━━━━━━━━━━━━━\u001b[0m \u001b[32m118.7/118.7 kB\u001b[0m \u001b[31m5.2 MB/s\u001b[0m eta \u001b[36m0:00:00\u001b[0m\n",
            "\u001b[2K   \u001b[90m━━━━━━━━━━━━━━━━━━━━━━━━━━━━━━━━━━━━━━━━\u001b[0m \u001b[32m72.0/72.0 kB\u001b[0m \u001b[31m3.1 MB/s\u001b[0m eta \u001b[36m0:00:00\u001b[0m\n",
            "\u001b[2K   \u001b[90m━━━━━━━━━━━━━━━━━━━━━━━━━━━━━━━━━━━━━━━━\u001b[0m \u001b[32m62.3/62.3 kB\u001b[0m \u001b[31m2.6 MB/s\u001b[0m eta \u001b[36m0:00:00\u001b[0m\n",
            "\u001b[2K   \u001b[90m━━━━━━━━━━━━━━━━━━━━━━━━━━━━━━━━━━━━━━━━\u001b[0m \u001b[32m459.8/459.8 kB\u001b[0m \u001b[31m18.9 MB/s\u001b[0m eta \u001b[36m0:00:00\u001b[0m\n",
            "\u001b[2K   \u001b[90m━━━━━━━━━━━━━━━━━━━━━━━━━━━━━━━━━━━━━━━━\u001b[0m \u001b[32m319.7/319.7 kB\u001b[0m \u001b[31m11.9 MB/s\u001b[0m eta \u001b[36m0:00:00\u001b[0m\n",
            "\u001b[2K   \u001b[90m━━━━━━━━━━━━━━━━━━━━━━━━━━━━━━━━━━━━━━━━\u001b[0m \u001b[32m71.5/71.5 kB\u001b[0m \u001b[31m2.9 MB/s\u001b[0m eta \u001b[36m0:00:00\u001b[0m\n",
            "\u001b[2K   \u001b[90m━━━━━━━━━━━━━━━━━━━━━━━━━━━━━━━━━━━━━━━━\u001b[0m \u001b[32m4.0/4.0 MB\u001b[0m \u001b[31m59.5 MB/s\u001b[0m eta \u001b[36m0:00:00\u001b[0m\n",
            "\u001b[2K   \u001b[90m━━━━━━━━━━━━━━━━━━━━━━━━━━━━━━━━━━━━━━━━\u001b[0m \u001b[32m452.6/452.6 kB\u001b[0m \u001b[31m18.4 MB/s\u001b[0m eta \u001b[36m0:00:00\u001b[0m\n",
            "\u001b[?25h  Building wheel for pypika (pyproject.toml) ... \u001b[?25l\u001b[?25hdone\n",
            "\u001b[2K   \u001b[90m━━━━━━━━━━━━━━━━━━━━━━━━━━━━━━━━━━━━━━━━\u001b[0m \u001b[32m1.0/1.0 MB\u001b[0m \u001b[31m11.3 MB/s\u001b[0m eta \u001b[36m0:00:00\u001b[0m\n",
            "\u001b[2K   \u001b[90m━━━━━━━━━━━━━━━━━━━━━━━━━━━━━━━━━━━━━━━━\u001b[0m \u001b[32m2.5/2.5 MB\u001b[0m \u001b[31m43.6 MB/s\u001b[0m eta \u001b[36m0:00:00\u001b[0m\n",
            "\u001b[2K   \u001b[90m━━━━━━━━━━━━━━━━━━━━━━━━━━━━━━━━━━━━━━━━\u001b[0m \u001b[32m413.0/413.0 kB\u001b[0m \u001b[31m17.5 MB/s\u001b[0m eta \u001b[36m0:00:00\u001b[0m\n",
            "\u001b[?25h"
          ]
        }
      ],
      "source": [
        "%pip install -Uq \"unstructured[all-docs]\" pillow lxml pillow\n",
        "%pip install -Uq chromadb tiktoken\n",
        "%pip install -Uq langchain langchain-community\n",
        "%pip install -Uq python_dotenv\n"
      ]
    },
    {
      "cell_type": "code",
      "execution_count": 5,
      "id": "91106e31",
      "metadata": {
        "id": "91106e31"
      },
      "outputs": [],
      "source": [
        "import os\n",
        "from google.colab import userdata\n",
        "\n",
        "# keys for the services we will use\n",
        "\n",
        "os.environ[\"GOOGLE_API_KEY\"] = userdata.get('GOOGLE_API_KEY')\n",
        "os.environ[\"GROQ_API_KEY\"] = userdata.get('GROQ_API_KEY')\n",
        "os.environ[\"LANGCHAIN_API_KEY\"] = userdata.get('LANGCHAIN_API_KEY')\n",
        "os.environ[\"PINECONE_API_KEY\"] = userdata.get('PINECONE_API_KEY')\n",
        "os.environ[\"LANGCHAIN_TRACING_V2\"] = \"true\"\n"
      ]
    },
    {
      "cell_type": "code",
      "source": [
        "from google.colab import drive\n",
        "\n",
        "\n",
        "drive.mount('/content/drive')\n",
        "\n",
        "\n",
        "\"\"\"# Mount a specific local folder\n",
        "local_folder_path = 'D:/curriculum_project'\n",
        "mount_point = '/content/local_folder'\n",
        "os.makedirs(mount_point, exist_ok=True)\n",
        "os.system(f'mount -o bind {local_folder_path} {mount_point}')\"\"\""
      ],
      "metadata": {
        "id": "byehnkudVmNF",
        "outputId": "93e8875e-4c43-4e87-9c07-ef7929a3bff5",
        "colab": {
          "base_uri": "https://localhost:8080/",
          "height": 70
        }
      },
      "id": "byehnkudVmNF",
      "execution_count": 1,
      "outputs": [
        {
          "output_type": "stream",
          "name": "stdout",
          "text": [
            "Mounted at /content/drive\n"
          ]
        },
        {
          "output_type": "execute_result",
          "data": {
            "text/plain": [
              "\"# Mount a specific local folder\\nlocal_folder_path = 'D:/curriculum_project'\\nmount_point = '/content/local_folder'\\nos.makedirs(mount_point, exist_ok=True)\\nos.system(f'mount -o bind {local_folder_path} {mount_point}')\""
            ],
            "application/vnd.google.colaboratory.intrinsic+json": {
              "type": "string"
            }
          },
          "metadata": {},
          "execution_count": 1
        }
      ]
    },
    {
      "cell_type": "code",
      "source": [
        "from google.colab import drive\n",
        "drive.flush_and_unmount()"
      ],
      "metadata": {
        "id": "xCezCSlhq-sh"
      },
      "id": "xCezCSlhq-sh",
      "execution_count": 72,
      "outputs": []
    },
    {
      "cell_type": "code",
      "source": [],
      "metadata": {
        "id": "eQbHK-Wvrn2i"
      },
      "id": "eQbHK-Wvrn2i",
      "execution_count": null,
      "outputs": []
    },
    {
      "cell_type": "markdown",
      "id": "74b56bde-1ba0-4525-a11d-cab02c5659e4",
      "metadata": {
        "id": "74b56bde-1ba0-4525-a11d-cab02c5659e4"
      },
      "source": [
        "## Extract the data\n",
        "\n",
        "Extract the elements of the PDF that we will be able to use in the retrieval process. These elements can be: Text, Images, Tables, etc."
      ]
    },
    {
      "cell_type": "markdown",
      "id": "e62ec070",
      "metadata": {
        "id": "e62ec070"
      },
      "source": [
        "### Partition PDF tables, text, and images"
      ]
    },
    {
      "cell_type": "code",
      "source": [
        "\n",
        "output_path = \"./drive/MyDrive/PDFs/\"\n",
        "urls = [\n",
        "\"https://dcar.gos.pk/Sindh-Curriculum/Advanced%20Pak%20Studies%20Grade%20XI-XII%20%202021%20with%20Notified.pdf\",\n",
        "\"https://dcar.gos.pk/Sindh-Curriculum/Matrix%20for%20Curriculum%20Review%202024-25.pdf\",\n",
        "\"https://dcar.gos.pk/Sindh-Curriculum/Advanced%20Pak%20Studies%20Grade%20XI-XII%20%202021%20with%20Notified.pdf\",\n",
        "\"https://dcar.gos.pk/Sindh-Curriculum/Aasan%20Sindhi%20Curriculum%20Grade%20III-V%202024%20with%20Notification.pdf\",\n",
        "\"https://dcar.gos.pk/Sindh-Curriculum/Aasan%20Urdu%20Grade%20III-V.pdf\",\n",
        "\"https://dcar.gos.pk/Sindh-Curriculum/Biology_Curriculum_19_August_2024_with_Notification[2].pdf\",\n",
        "\"https://dcar.gos.pk/Sindh-Curriculum/Sindh%20Curriculum%20for%20Biology%20Grades%20XI-XII%20%20with%20Notification.pdf\",\n",
        "\"https://dcar.gos.pk/Sindh-Curriculum/Chemistry%20Curriculum%20%20Grade%20IX-XII%2019%20August%202024%20with%20Notification.pdf\",\n",
        "\"https://dcar.gos.pk/Sindh-Curriculum/Chemistry%20Curriculum%20Grade%20IX-X%20Revised%202017.pdf\",\n",
        "\"https://dcar.gos.pk/Sindh-Curriculum/Chemistry%20Curriculum%20Grade%20XI-XII%20with%20Notified.pdf\",\n",
        "\"https://dcar.gos.pk/Sindh-Curriculum/Computer%20Science%20Curriculum%20Grade%20VI-VIII%202024%20with%20Notification.pdf\",\n",
        "\"https://dcar.gos.pk/Sindh-Curriculum/Computer%20Science%20Curriculum%20with%20NOC-2024.pdf\",\n",
        "\"https://dcar.gos.pk/Sindh-Curriculum/Computer%20Science%20Curriculum%20Grade%20XI-XII%202019%20with%20Notification.pdf\",\n",
        "\"https://dcar.gos.pk/Sindh-Curriculum/Computer%20Science%20Curriculum%20Grade%20IX-X%202018%20with%20Notification.pdf\",\n",
        "\"https://dcar.gos.pk/Sindh-Curriculum/Disaster%20Risk%20Reduction%20&%20Resilience%20August%202020.pdf\",\n",
        "\"https://dcar.gos.pk/Sindh-Curriculum/Drawing%20Curriculum%20VI-VIII%20-15-01-2022.pdf\",\n",
        "\"https://dcar.gos.pk/Sindh-Curriculum/ECCE%20Standared.pdf\",\n",
        "\"https://dcar.gos.pk/Sindh-Curriculum/ECCE%202018-2.pdf\",\n",
        "\"https://dcar.gos.pk/Sindh-Curriculum/ECE%20Curriculum%20-%2007%20August%20%202024%20.pdf\",\n",
        "\"https://dcar.gos.pk/Sindh-Curriculum/English%20Curriculum%20Grade%20K-VIII%202024%20with%20Notification.pdf\",\n",
        "\"https://dcar.gos.pk/Sindh-Curriculum/English%20Language%20Curriculum%20Grade%20IX-XII%2021%20JUNE%202024.pdf\",\n",
        "\"https://dcar.gos.pk/Sindh-Curriculum/Revised%20English%20Curriculum%20ECE-XII_2.pdf\",\n",
        "\"https://dcar.gos.pk/Sindh-Curriculum/Revised%20English%20Literature%20XI-XII%20with%20Notified.pdf\",\n",
        "\"https://dcar.gos.pk/Sindh-Curriculum/Sindh%20Curriculum%20for%20ETHICS%20Grade%20III%20to%20V%20with%20Notified.pdf\",\n",
        "\"https://dcar.gos.pk/Sindh-Curriculum/FINAL%20DRAFT%20OF%20ETHICS(Grade%20VI-%20VIII)%2014-02-2020%20with%20Notified.pdf\",\n",
        "\"https://dcar.gos.pk/Sindh-Curriculum/Ethics%20Curriculum%20XI-XII%20Review%20on%2030-11-2020.pdf\",\n",
        "\"https://dcar.gos.pk/Sindh-Curriculum/General%20Science%20Grade%20IV-VIII%2002%20May%202024.pdf\",\n",
        "\"https://dcar.gos.pk/Sindh-Curriculum/General%20Knowledge%20Curriculum%20Sindh%20Grade%20I%20to%20III%20-%204%20April%202024%20with%20Notify.pdf\",\n",
        "\"https://dcar.gos.pk/Sindh-Curriculum/Final%20Copy%20Islamiat%20Curriculum%20III-VIII.pdf\",\n",
        "\"https://dcar.gos.pk/Sindh-Curriculum/Final%20Copy%20%20Islamiat%20Ix-X%20Syllabus%202017%20updated.pdf\",\n",
        "\"https://dcar.gos.pk/Sindh-Curriculum/Final%20Copy%20Islamiat%20Curriculum%20XI-XII%202018%20.pdf\",\n",
        "\"https://dcar.gos.pk/Sindh-Curriculum/Its%20All%20One%20Curriculum.pdf\",\n",
        "\"https://dcar.gos.pk/Sindh-Curriculum/Libarary%20Science%20Grade%20XI-XII%2013%20August%202024.pdf\",\n",
        "\"https://dcar.gos.pk/Sindh-Curriculum/Mathematic%20Curriculum%20Grade%20I-VIII%202024%20with%20Notification.pdf\",\n",
        "\"https://dcar.gos.pk/Sindh-Curriculum/Maths%20Curriculum%202024%20Grade%20IX-XII-15%20JULY%202024.pdf\",\n",
        "\"https://dcar.gos.pk/Sindh-Curriculum/Curriculum%20for%20Mathematics%20Grades%20XI-XII%20(Revised%20in%202019).pdf\",\n",
        "\"https://dcar.gos.pk/National_Curriculum/Pakistan%20Studies%20Grade%20IX-X%202019%20Final%20with%20Notification.pdf\",\n",
        "\"https://dcar.gos.pk/Sindh-Curriculum/Pakistan%20Studies%20Grade%20IX-X-2019-2020-Revised.pdf\",\n",
        "\"https://dcar.gos.pk/Sindh-Curriculum/Sindh%20Curriculum%20for%20Physical%20Education%20Grades%20I-VIII%202019%20Notified.pdf\",\n",
        "\"https://dcar.gos.pk/Sindh-Curriculum/Physics%20Curriculum%2019%20August%202024.pdf\",\n",
        "\"https://dcar.gos.pk/Sindh-Curriculum/Physics%20Grades%20IX-X%202018.pdf\",\n",
        "\"https://dcar.gos.pk/Sindh-Curriculum/Physics%20Curriculum%20Grades%20XI%20-XII,%20Notified%2025-11-2019.pdf\",\n",
        "\"https://dcar.gos.pk/Sindh-Curriculum/RS-G%20III-V%20Notified.pdf\",\n",
        "\"https://dcar.gos.pk/Sindh-Curriculum/RS-G%20VI-VIII%20Notified.pdf\",\n",
        "\"https://dcar.gos.pk/Sindh-Curriculum/RS-G%20IX-X%20Notified.pdf\",\n",
        "\"https://dcar.gos.pk/Sindh-Curriculum/RS-G%20XI-XII%20Notified.pdf\",\n",
        "\"https://dcar.gos.pk/National_Curriculum/Reviewed%20Social%20Srtudies%20Final%20Curriculum%202016.pdf\",\n",
        "\"https://dcar.gos.pk/Sindh-Curriculum/Sindh%20Curriculum%20for%20the%20Subject%20of%20Sindhi%20Grade%20I-V.pdf\",\n",
        "\"https://dcar.gos.pk/Sindh-Curriculum/Sindhi%20Curriculum%20Grade%20VI-VIII%20%202022%20with%20Notification.pdf\",\n",
        "\"https://dcar.gos.pk/Sindh-Curriculum/Sindhi%20Language%20Curriculum%20Grade%20XI-XII%20with%20Notified.pdf\",\n",
        "\"https://dcar.gos.pk/Sindh-Curriculum/Sindh%20Curriculum%20for%20the%20Subject%20of%20Urdu%20Grade%20I-V.pdf\",\n",
        "\"https://dcar.gos.pk/Sindh-Curriculum/Urdu%20Curriculum%20VI-VIII.pdf\",\n",
        "\"https://dcar.gos.pk/Sindh-Curriculum/Urdu%20Curriculum%20Grade%20XI-XII%20with%20Notification%20and%20Signature.pdf\",\n",
        "\"https://dcar.gos.pk/other_notifications/Newsletter-05%20December%202023.pdf\"]\n",
        "\n",
        "from urllib.parse import urlparse\n",
        "import os\n",
        "\n",
        "def extract_filename_from_url(url):\n",
        "    \"\"\"Extract the filename from a URL.\n",
        "\n",
        "    Args:\n",
        "        url (str): The complete URL.\n",
        "\n",
        "    Returns:\n",
        "        str: The extracted filename.\n",
        "    \"\"\"\n",
        "    # Parse the URL\n",
        "    parsed_url = urlparse(url)\n",
        "    # Get the last part of the path\n",
        "    filename = os.path.basename(parsed_url.path)\n",
        "    return filename\n",
        "\n",
        "\n",
        "for url in urls:\n",
        "  # Download the PDF to a local file\n",
        "  local_file_name = extract_filename_from_url(url)\n",
        "  local_file_path = output_path + local_file_name\n",
        "  response = requests.get(url, stream=True)\n",
        "  with open(local_file_path, \"wb\") as f:\n",
        "    f.write(response.content)"
      ],
      "metadata": {
        "id": "Lg1jhebCCcfr",
        "outputId": "20f39c87-f809-4ea9-cb78-b5e3a09fb205",
        "colab": {
          "base_uri": "https://localhost:8080/",
          "height": 211
        }
      },
      "id": "Lg1jhebCCcfr",
      "execution_count": 6,
      "outputs": [
        {
          "output_type": "error",
          "ename": "NameError",
          "evalue": "name 'requests' is not defined",
          "traceback": [
            "\u001b[0;31m---------------------------------------------------------------------------\u001b[0m",
            "\u001b[0;31mNameError\u001b[0m                                 Traceback (most recent call last)",
            "\u001b[0;32m<ipython-input-6-916a68007856>\u001b[0m in \u001b[0;36m<cell line: 0>\u001b[0;34m()\u001b[0m\n\u001b[1;32m     79\u001b[0m   \u001b[0mlocal_file_name\u001b[0m \u001b[0;34m=\u001b[0m \u001b[0mextract_filename_from_url\u001b[0m\u001b[0;34m(\u001b[0m\u001b[0murl\u001b[0m\u001b[0;34m)\u001b[0m\u001b[0;34m\u001b[0m\u001b[0;34m\u001b[0m\u001b[0m\n\u001b[1;32m     80\u001b[0m   \u001b[0mlocal_file_path\u001b[0m \u001b[0;34m=\u001b[0m \u001b[0moutput_path\u001b[0m \u001b[0;34m+\u001b[0m \u001b[0mlocal_file_name\u001b[0m\u001b[0;34m\u001b[0m\u001b[0;34m\u001b[0m\u001b[0m\n\u001b[0;32m---> 81\u001b[0;31m   \u001b[0mresponse\u001b[0m \u001b[0;34m=\u001b[0m \u001b[0mrequests\u001b[0m\u001b[0;34m.\u001b[0m\u001b[0mget\u001b[0m\u001b[0;34m(\u001b[0m\u001b[0murl\u001b[0m\u001b[0;34m,\u001b[0m \u001b[0mstream\u001b[0m\u001b[0;34m=\u001b[0m\u001b[0;32mTrue\u001b[0m\u001b[0;34m)\u001b[0m\u001b[0;34m\u001b[0m\u001b[0;34m\u001b[0m\u001b[0m\n\u001b[0m\u001b[1;32m     82\u001b[0m   \u001b[0;32mwith\u001b[0m \u001b[0mopen\u001b[0m\u001b[0;34m(\u001b[0m\u001b[0mlocal_file_path\u001b[0m\u001b[0;34m,\u001b[0m \u001b[0;34m\"wb\"\u001b[0m\u001b[0;34m)\u001b[0m \u001b[0;32mas\u001b[0m \u001b[0mf\u001b[0m\u001b[0;34m:\u001b[0m\u001b[0;34m\u001b[0m\u001b[0;34m\u001b[0m\u001b[0m\n\u001b[1;32m     83\u001b[0m     \u001b[0mf\u001b[0m\u001b[0;34m.\u001b[0m\u001b[0mwrite\u001b[0m\u001b[0;34m(\u001b[0m\u001b[0mresponse\u001b[0m\u001b[0;34m.\u001b[0m\u001b[0mcontent\u001b[0m\u001b[0;34m)\u001b[0m\u001b[0;34m\u001b[0m\u001b[0;34m\u001b[0m\u001b[0m\n",
            "\u001b[0;31mNameError\u001b[0m: name 'requests' is not defined"
          ]
        }
      ]
    },
    {
      "cell_type": "code",
      "execution_count": null,
      "id": "0a046528-8d22-4f4e-a520-962026562939",
      "metadata": {
        "colab": {
          "base_uri": "https://localhost:8080/"
        },
        "id": "0a046528-8d22-4f4e-a520-962026562939",
        "outputId": "49735457-d5c9-477a-a369-bd4a33ee2061",
        "scrolled": true
      },
      "outputs": [
        {
          "output_type": "stream",
          "name": "stdout",
          "text": [
            "/content/drive/MyDrive/PDFs/Chemistry%20Curriculum%20%20Grade%20IX-XII%2019%20August%202024%20with%20Notification.pdf\n"
          ]
        }
      ],
      "source": [
        "from unstructured.partition.pdf import partition_pdf\n",
        "from langchain.document_loaders import UnstructuredURLLoader\n",
        "import requests\n",
        "\n",
        "\n",
        "\n",
        "import pickle\n",
        "import os\n",
        "\n",
        "def save_chunks(chunks, filename):\n",
        "    \"\"\"Saves chunks to a file.\"\"\"\n",
        "    filepath = os.path.join(output_path,\"chunk_data\", filename + \".pkl\")  # Create a subfolder for organization\n",
        "    os.makedirs(os.path.dirname(filepath), exist_ok=True)  # Ensure the directory exists\n",
        "    with open(filepath, 'wb') as f:\n",
        "        pickle.dump(chunks, f)\n",
        "\n",
        "\n",
        "chunk_data=[]\n",
        "import os\n",
        "\n",
        "def list_pdfs(folder_path):\n",
        "    \"\"\"Lists all PDF files in a folder.\n",
        "\n",
        "    Args:\n",
        "        folder_path (str): The path to the folder.\n",
        "\n",
        "    Returns:\n",
        "        list: A list of PDF file paths.\n",
        "    \"\"\"\n",
        "    pdf_files = []\n",
        "    for filename in os.listdir(folder_path):\n",
        "        if filename.endswith(\".pdf\"):\n",
        "            pdf_files.append(filename)\n",
        "    return pdf_files\n",
        "\n",
        "# Get the list of PDF files\n",
        "folder_path = \"/content/drive/MyDrive/PDFs\"\n",
        "pdf_files = list_pdfs(folder_path)\n",
        "\n",
        "# Print the list\n",
        "for pdf_file in pdf_files:\n",
        "  if pdf_file+\".pkl\" in os.listdir(\"/content/drive/MyDrive/PDFs/chunk_data\"):\n",
        "    continue\n",
        "  else:\n",
        "    print(os.path.join(folder_path, pdf_file))\n",
        "    # Reference: https://docs.unstructured.io/open-source/core-functionality/chunking\n",
        "    chunks = partition_pdf(\n",
        "    filename=os.path.join(folder_path, pdf_file),\n",
        "    infer_table_structure=True,            # extract tables\n",
        "    strategy=\"hi_res\",                     # mandatory to infer tables\n",
        "\n",
        "    extract_image_block_types=[\"Image\"],   # Add 'Table' to list to extract image of tables\n",
        "    image_output_dir_path=output_path+\"/img\",   # if None, images and tables will saved in base64\n",
        "\n",
        "    extract_image_block_to_payload=True,   # if true, will extract base64 for API usage\n",
        "\n",
        "    chunking_strategy=\"by_title\",          # or 'basic'\n",
        "    max_characters=10000,                  # defaults to 500\n",
        "    combine_text_under_n_chars=2000,       # defaults to 0\n",
        "    new_after_n_chars=6000,\n",
        "\n",
        "    # extract_images_in_pdf=True,          # deprecated\n",
        "    )\n",
        "    # filename = extract_filename_from_url(url)\n",
        "    save_chunks(chunks, pdf_file)\n",
        "    chunk_data.append(chunks)"
      ]
    },
    {
      "cell_type": "code",
      "source": [
        "os.listdir(\"/content/drive/MyDrive/PDFs/chunk_data\")\n",
        "\n",
        "\n"
      ],
      "metadata": {
        "id": "ap2jsAVO1yit",
        "outputId": "5dff137c-5489-4cbe-bf08-175fdfee86e0",
        "colab": {
          "base_uri": "https://localhost:8080/"
        }
      },
      "id": "ap2jsAVO1yit",
      "execution_count": 15,
      "outputs": [
        {
          "output_type": "execute_result",
          "data": {
            "text/plain": [
              "['Advanced%20Pak%20Studies%20Grade%20XI-XII%20%202021%20with%20Notified.pdf.pkl',\n",
              " 'Matrix%20for%20Curriculum%20Review%202024-25.pdf.pkl',\n",
              " 'Aasan%20Sindhi%20Curriculum%20Grade%20III-V%202024%20with%20Notification.pdf.pkl',\n",
              " 'Aasan%20Urdu%20Grade%20III-V.pdf.pkl',\n",
              " 'Biology_Curriculum_19_August_2024_with_Notification[2].pdf.pkl',\n",
              " 'Sindh%20Curriculum%20for%20Biology%20Grades%20XI-XII%20%20with%20Notification.pdf.pkl']"
            ]
          },
          "metadata": {},
          "execution_count": 15
        }
      ]
    },
    {
      "cell_type": "code",
      "source": [
        "import pickle\n",
        "import os\n",
        "\n",
        "def load_chunks(filename):\n",
        "    \"\"\"Loads chunks from a file.\"\"\"\n",
        "    filepath = os.path.join(output_path,\"chunk_data\", filename + \".pkl\")\n",
        "    with open(filepath, 'rb') as f:\n",
        "        return pickle.load(f)\n",
        "\n",
        "filename = \"your_pdf_filename\"  # Replace with the desired filename\n",
        "chunks = load_chunks(filename)"
      ],
      "metadata": {
        "id": "533Por4T007f"
      },
      "id": "533Por4T007f",
      "execution_count": null,
      "outputs": []
    },
    {
      "cell_type": "code",
      "source": [
        "chunks"
      ],
      "metadata": {
        "id": "GuUmDZbz-lux",
        "outputId": "0ab47ff8-0400-41fc-84b5-79d793d94bdb",
        "colab": {
          "base_uri": "https://localhost:8080/"
        }
      },
      "id": "GuUmDZbz-lux",
      "execution_count": 86,
      "outputs": [
        {
          "output_type": "execute_result",
          "data": {
            "text/plain": [
              "[<unstructured.documents.elements.CompositeElement at 0x7d805af6b110>,\n",
              " <unstructured.documents.elements.CompositeElement at 0x7d805af7cf50>,\n",
              " <unstructured.documents.elements.CompositeElement at 0x7d805af7d450>,\n",
              " <unstructured.documents.elements.CompositeElement at 0x7d805af75010>,\n",
              " <unstructured.documents.elements.CompositeElement at 0x7d805af7fc90>,\n",
              " <unstructured.documents.elements.CompositeElement at 0x7d805af75a10>,\n",
              " <unstructured.documents.elements.CompositeElement at 0x7d805afcde50>,\n",
              " <unstructured.documents.elements.CompositeElement at 0x7d805afce2d0>,\n",
              " <unstructured.documents.elements.CompositeElement at 0x7d805a988ad0>,\n",
              " <unstructured.documents.elements.CompositeElement at 0x7d805af77610>,\n",
              " <unstructured.documents.elements.CompositeElement at 0x7d805a989150>,\n",
              " <unstructured.documents.elements.CompositeElement at 0x7d805a948910>,\n",
              " <unstructured.documents.elements.CompositeElement at 0x7d805a98a5d0>,\n",
              " <unstructured.documents.elements.CompositeElement at 0x7d805a949010>,\n",
              " <unstructured.documents.elements.CompositeElement at 0x7d805a8f6910>,\n",
              " <unstructured.documents.elements.CompositeElement at 0x7d805a9780d0>,\n",
              " <unstructured.documents.elements.CompositeElement at 0x7d805a9795d0>,\n",
              " <unstructured.documents.elements.CompositeElement at 0x7d805a97acd0>,\n",
              " <unstructured.documents.elements.CompositeElement at 0x7d8110221c90>,\n",
              " <unstructured.documents.elements.CompositeElement at 0x7d805a98a310>,\n",
              " <unstructured.documents.elements.CompositeElement at 0x7d805a949790>,\n",
              " <unstructured.documents.elements.CompositeElement at 0x7d810d3b8f90>,\n",
              " <unstructured.documents.elements.CompositeElement at 0x7d805a94aa50>,\n",
              " <unstructured.documents.elements.CompositeElement at 0x7d805b287c10>,\n",
              " <unstructured.documents.elements.CompositeElement at 0x7d807f334a90>,\n",
              " <unstructured.documents.elements.CompositeElement at 0x7d807f335d50>,\n",
              " <unstructured.documents.elements.CompositeElement at 0x7d8083483c10>,\n",
              " <unstructured.documents.elements.CompositeElement at 0x7d8072169e90>,\n",
              " <unstructured.documents.elements.CompositeElement at 0x7d8083482750>,\n",
              " <unstructured.documents.elements.CompositeElement at 0x7d8083483d10>,\n",
              " <unstructured.documents.elements.CompositeElement at 0x7d805afced10>,\n",
              " <unstructured.documents.elements.CompositeElement at 0x7d808404d310>,\n",
              " <unstructured.documents.elements.CompositeElement at 0x7d808404f7d0>,\n",
              " <unstructured.documents.elements.CompositeElement at 0x7d808404d7d0>,\n",
              " <unstructured.documents.elements.CompositeElement at 0x7d807e50dc90>,\n",
              " <unstructured.documents.elements.CompositeElement at 0x7d807e50d850>,\n",
              " <unstructured.documents.elements.CompositeElement at 0x7d807e50c950>,\n",
              " <unstructured.documents.elements.CompositeElement at 0x7d807e50e910>,\n",
              " <unstructured.documents.elements.CompositeElement at 0x7d8081563f50>,\n",
              " <unstructured.documents.elements.CompositeElement at 0x7d80727e4dd0>,\n",
              " <unstructured.documents.elements.CompositeElement at 0x7d80806c8790>,\n",
              " <unstructured.documents.elements.CompositeElement at 0x7d8074a49e10>,\n",
              " <unstructured.documents.elements.CompositeElement at 0x7d807e50ca50>,\n",
              " <unstructured.documents.elements.CompositeElement at 0x7d8084f10590>,\n",
              " <unstructured.documents.elements.CompositeElement at 0x7d811010c7d0>,\n",
              " <unstructured.documents.elements.CompositeElement at 0x7d8084f12610>,\n",
              " <unstructured.documents.elements.CompositeElement at 0x7d8085193ad0>,\n",
              " <unstructured.documents.elements.CompositeElement at 0x7d807f348550>,\n",
              " <unstructured.documents.elements.CompositeElement at 0x7d805b606dd0>,\n",
              " <unstructured.documents.elements.CompositeElement at 0x7d805b6072d0>,\n",
              " <unstructured.documents.elements.CompositeElement at 0x7d805b606fd0>,\n",
              " <unstructured.documents.elements.CompositeElement at 0x7d805b7b6390>,\n",
              " <unstructured.documents.elements.CompositeElement at 0x7d805b7b48d0>,\n",
              " <unstructured.documents.elements.CompositeElement at 0x7d805b7b5510>,\n",
              " <unstructured.documents.elements.CompositeElement at 0x7d8085298710>]"
            ]
          },
          "metadata": {},
          "execution_count": 86
        }
      ]
    },
    {
      "cell_type": "code",
      "execution_count": 87,
      "id": "038f6733",
      "metadata": {
        "id": "038f6733",
        "outputId": "135c8b01-4d2d-4cc7-a21f-b74f629db9a3",
        "colab": {
          "base_uri": "https://localhost:8080/"
        }
      },
      "outputs": [
        {
          "output_type": "execute_result",
          "data": {
            "text/plain": [
              "{\"<class 'unstructured.documents.elements.CompositeElement'>\"}"
            ]
          },
          "metadata": {},
          "execution_count": 87
        }
      ],
      "source": [
        "# We get 2 types of elements from the partition_pdf function\n",
        "set([str(type(el)) for el in chunks])"
      ]
    },
    {
      "cell_type": "code",
      "execution_count": 88,
      "id": "cccca0db",
      "metadata": {
        "id": "cccca0db",
        "outputId": "bf040aee-f676-4529-c3e8-3964e37efc97",
        "colab": {
          "base_uri": "https://localhost:8080/"
        }
      },
      "outputs": [
        {
          "output_type": "execute_result",
          "data": {
            "text/plain": [
              "[<unstructured.documents.elements.Image at 0x7d807ec62710>,\n",
              " <unstructured.documents.elements.Image at 0x7d805bb3b750>,\n",
              " <unstructured.documents.elements.Image at 0x7d8080807a90>,\n",
              " <unstructured.documents.elements.Image at 0x7d80572d97d0>,\n",
              " <unstructured.documents.elements.Title at 0x7d80730ec910>,\n",
              " <unstructured.documents.elements.Image at 0x7d80569ebf50>,\n",
              " <unstructured.documents.elements.Title at 0x7d8072da2450>,\n",
              " <unstructured.documents.elements.Image at 0x7d808421f5d0>,\n",
              " <unstructured.documents.elements.Title at 0x7d8057395650>,\n",
              " <unstructured.documents.elements.Image at 0x7d8057190e10>,\n",
              " <unstructured.documents.elements.Title at 0x7d8057394150>,\n",
              " <unstructured.documents.elements.Image at 0x7d805bb3b690>,\n",
              " <unstructured.documents.elements.Title at 0x7d8071551bd0>,\n",
              " <unstructured.documents.elements.Title at 0x7d807e4cc310>,\n",
              " <unstructured.documents.elements.Title at 0x7d807f2c19d0>,\n",
              " <unstructured.documents.elements.NarrativeText at 0x7d807e4cf390>,\n",
              " <unstructured.documents.elements.Image at 0x7d80815a1750>,\n",
              " <unstructured.documents.elements.Title at 0x7d805b57da50>,\n",
              " <unstructured.documents.elements.Image at 0x7d805b57d710>,\n",
              " <unstructured.documents.elements.Title at 0x7d8056a3b9d0>,\n",
              " <unstructured.documents.elements.Title at 0x7d81100e1610>,\n",
              " <unstructured.documents.elements.Title at 0x7d8074456c10>,\n",
              " <unstructured.documents.elements.Title at 0x7d8074a793d0>,\n",
              " <unstructured.documents.elements.NarrativeText at 0x7d805bea8810>,\n",
              " <unstructured.documents.elements.NarrativeText at 0x7d808316cdd0>,\n",
              " <unstructured.documents.elements.Title at 0x7d806bce4a10>,\n",
              " <unstructured.documents.elements.Table at 0x7d806bce7990>,\n",
              " <unstructured.documents.elements.Title at 0x7d8074a78f90>,\n",
              " <unstructured.documents.elements.Header at 0x7d806bce6d10>,\n",
              " <unstructured.documents.elements.Title at 0x7d806bce5c90>,\n",
              " <unstructured.documents.elements.Title at 0x7d8080a8bed0>,\n",
              " <unstructured.documents.elements.NarrativeText at 0x7d8080a89090>,\n",
              " <unstructured.documents.elements.Title at 0x7d8080a8b1d0>,\n",
              " <unstructured.documents.elements.NarrativeText at 0x7d8080a88990>,\n",
              " <unstructured.documents.elements.NarrativeText at 0x7d8080a89ad0>,\n",
              " <unstructured.documents.elements.NarrativeText at 0x7d8080a8be90>,\n",
              " <unstructured.documents.elements.NarrativeText at 0x7d8080a8b790>]"
            ]
          },
          "metadata": {},
          "execution_count": 88
        }
      ],
      "source": [
        "# Each CompositeElement containes a bunch of related elements.\n",
        "# This makes it easy to use these elements together in a RAG pipeline.\n",
        "\n",
        "chunks[0].metadata.orig_elements"
      ]
    },
    {
      "cell_type": "code",
      "execution_count": 89,
      "id": "b8766f03",
      "metadata": {
        "id": "b8766f03",
        "outputId": "5dfc89a8-1015-4eb2-8616-045bc68c0b01",
        "colab": {
          "base_uri": "https://localhost:8080/"
        }
      },
      "outputs": [
        {
          "output_type": "execute_result",
          "data": {
            "text/plain": [
              "{'type': 'Image',\n",
              " 'element_id': 'd1af881c-a168-4ec3-9440-414cd38070a9',\n",
              " 'text': '                                                                                                                                                                                                                                                                                                                                                                                                                                                                                                                                               ',\n",
              " 'metadata': {'coordinates': {'points': ((87.65555555555555,\n",
              "     0.5555555555556818),\n",
              "    (87.65555555555555, 1389.4444444444443),\n",
              "    (619.8222222222223, 1389.4444444444443),\n",
              "    (619.8222222222223, 0.5555555555556818)),\n",
              "   'system': 'PixelSpace',\n",
              "   'layout_width': 1700,\n",
              "   'layout_height': 2200},\n",
              "  'last_modified': '2025-02-08T14:30:19',\n",
              "  'filetype': 'PPM',\n",
              "  'languages': ['eng'],\n",
              "  'page_number': 1,\n",
              "  'image_base64': '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',\n",
              "  'image_mime_type': 'image/jpeg'}}"
            ]
          },
          "metadata": {},
          "execution_count": 89
        }
      ],
      "source": [
        "# This is what an extracted image looks like.\n",
        "# It contains the base64 representation only because we set the param extract_image_block_to_payload=True\n",
        "\n",
        "elements = chunks[0].metadata.orig_elements\n",
        "chunk_images = [el for el in elements if 'Image' in str(type(el))]\n",
        "chunk_images[0].to_dict()"
      ]
    },
    {
      "cell_type": "markdown",
      "id": "26caebda",
      "metadata": {
        "id": "26caebda"
      },
      "source": [
        "### Separate extracted elements into tables, text, and images"
      ]
    },
    {
      "cell_type": "code",
      "execution_count": 90,
      "id": "8326a750",
      "metadata": {
        "id": "8326a750"
      },
      "outputs": [],
      "source": [
        "# separate tables from texts\n",
        "tables = []\n",
        "texts = []\n",
        "\n",
        "for chunk in chunks:\n",
        "    if \"Table\" in str(type(chunk)):\n",
        "        tables.append(chunk)\n",
        "\n",
        "    if \"CompositeElement\" in str(type((chunk))):\n",
        "        texts.append(chunk)"
      ]
    },
    {
      "cell_type": "code",
      "execution_count": 91,
      "id": "df548e46",
      "metadata": {
        "id": "df548e46"
      },
      "outputs": [],
      "source": [
        "# Get the images from the CompositeElement objects\n",
        "def get_images_base64(chunks):\n",
        "    images_b64 = []\n",
        "    for chunk in chunks:\n",
        "        if \"CompositeElement\" in str(type(chunk)):\n",
        "            chunk_els = chunk.metadata.orig_elements\n",
        "            for el in chunk_els:\n",
        "                if \"Image\" in str(type(el)):\n",
        "                    images_b64.append(el.metadata.image_base64)\n",
        "    return images_b64\n",
        "\n",
        "images = get_images_base64(chunks)"
      ]
    },
    {
      "cell_type": "markdown",
      "id": "9582f462",
      "metadata": {
        "id": "9582f462"
      },
      "source": [
        "#### Check what the images look like"
      ]
    },
    {
      "cell_type": "code",
      "execution_count": 93,
      "id": "83158c36",
      "metadata": {
        "id": "83158c36",
        "outputId": "e8d7f328-9707-420e-abb0-919bd6424a5f",
        "colab": {
          "base_uri": "https://localhost:8080/",
          "height": 61
        }
      },
      "outputs": [
        {
          "output_type": "display_data",
          "data": {
            "image/jpeg": "[encoded data removed]",
            "text/plain": [
              "<IPython.core.display.Image object>"
            ]
          },
          "metadata": {}
        }
      ],
      "source": [
        "import base64\n",
        "from IPython.display import Image, display\n",
        "\n",
        "def display_base64_image(base64_code):\n",
        "    # Decode the base64 string to binary\n",
        "    image_data = base64.b64decode(base64_code)\n",
        "    # Display the image\n",
        "    display(Image(data=image_data))\n",
        "\n",
        "display_base64_image(images[10])"
      ]
    },
    {
      "cell_type": "markdown",
      "id": "0aa7f52f-bf5c-4ba4-af72-b2ccba59a4cf",
      "metadata": {
        "id": "0aa7f52f-bf5c-4ba4-af72-b2ccba59a4cf"
      },
      "source": [
        "## Summarize the data\n",
        "\n",
        "Create a summary of each element extracted from the PDF. This summary will be vectorized and used in the retrieval process."
      ]
    },
    {
      "cell_type": "markdown",
      "id": "8b55862c",
      "metadata": {
        "id": "8b55862c"
      },
      "source": [
        "### Text and Table summaries\n",
        "\n",
        "We don't need a multimodal model to generate the summaries of the tables and the text. I will use open source models available on Groq."
      ]
    },
    {
      "cell_type": "code",
      "execution_count": 94,
      "id": "08b3d2bc",
      "metadata": {
        "id": "08b3d2bc"
      },
      "outputs": [],
      "source": [
        "%pip install -Uq langchain-google-genai langchain_groq"
      ]
    },
    {
      "cell_type": "code",
      "execution_count": 95,
      "id": "523e6ed2-2132-4748-bdb7-db765f20648d",
      "metadata": {
        "id": "523e6ed2-2132-4748-bdb7-db765f20648d"
      },
      "outputs": [],
      "source": [
        "from langchain_groq import ChatGroq\n",
        "from langchain_core.prompts import ChatPromptTemplate\n",
        "from langchain_core.output_parsers import StrOutputParser"
      ]
    },
    {
      "cell_type": "code",
      "execution_count": 98,
      "id": "22c22e3f-42fb-4a4a-a87a-89f10ba8ab99",
      "metadata": {
        "id": "22c22e3f-42fb-4a4a-a87a-89f10ba8ab99"
      },
      "outputs": [],
      "source": [
        "# Prompt\n",
        "prompt_text = \"\"\"\n",
        "You are an assistant tasked with summarizing tables and text.\n",
        "Give a concise summary of the table or text.\n",
        "\n",
        "Respond only with the summary, no additionnal comment.\n",
        "Do not start your message by saying \"Here is a summary\" or anything like that.\n",
        "Just give the summary as it is.\n",
        "\n",
        "Table or text chunk: {element}\n",
        "\n",
        "\"\"\"\n",
        "prompt = ChatPromptTemplate.from_template(prompt_text)\n",
        "\n",
        "# Summary chain\n",
        "model = ChatGroq(temperature=0.5, model=\"llama-3.1-8b-instant\")\n",
        "summarize_chain = {\"element\": lambda x: x} | prompt | model | StrOutputParser()"
      ]
    },
    {
      "cell_type": "code",
      "execution_count": 97,
      "id": "f176b374-aef0-48f4-a104-fb26b1dd6922",
      "metadata": {
        "id": "f176b374-aef0-48f4-a104-fb26b1dd6922"
      },
      "outputs": [],
      "source": [
        "# Summarize text\n",
        "# text_summaries = summarize_chain.batch(texts, {\"max_concurrency\": 3})\n",
        "\n",
        "import time\n",
        "\n",
        "# Summarize text with rate limiting\n",
        "text_summaries = []\n",
        "for text in texts:\n",
        "    text_summaries.append(summarize_chain.invoke(text))\n",
        "    time.sleep(5)  # Wait for 15 seconds, adjust as needed\n",
        "\n",
        "# Summarize tables with rate limiting\n",
        "tables_html = [table.metadata.text_as_html for table in tables]\n",
        "table_summaries = []\n",
        "for table_html in tables_html:\n",
        "    table_summaries.append(summarize_chain.invoke(table_html))\n",
        "    time.sleep(5)  # Wait for 15 seconds, adjust as needed\n",
        "\n",
        "\n",
        "\n",
        "# Summarize tables\n",
        "# tables_html = [table.metadata.text_as_html for table in tables]\n",
        "# table_summaries = summarize_chain.batch(tables_html, {\"max_concurrency\": 3})"
      ]
    },
    {
      "cell_type": "code",
      "execution_count": 42,
      "id": "1d172ad2",
      "metadata": {
        "id": "1d172ad2",
        "outputId": "5a64a2c2-fff7-403c-f31d-5943a1047cf8",
        "colab": {
          "base_uri": "https://localhost:8080/"
        }
      },
      "outputs": [
        {
          "output_type": "execute_result",
          "data": {
            "text/plain": [
              "[\"The Sindh Government's School Education & Literacy Department has revised the Pakistan Studies curriculum for Grades XI-XII, with a focus on developing students' understanding of Pakistan's history, society, culture, geography, economy, and politics. The curriculum is divided into six strands: History, Geography, Political Science/Civics, Economics, Sociology, and Skill Development. The revised curriculum aims to promote critical thinking, self-reliance, and employability, while removing biases and discriminations based on various social factors.\",\n",
              " 'The curriculum focuses on democratic norms, creativity, and critical thinking, promoting national integration and developing skills in inquiry, research, and learning. It emphasizes the study of history to understand the past, present, and predict the future, with standards and benchmarks for students to learn chronological skills, sequence key events, and identify relationships and patterns of historical change and continuity.',\n",
              " 'The benchmarks for Geography in Pakistan focus on understanding the physical and human environment, geographic tools, and relationships. Students will learn to use resources, data, and tools to enhance geographic understanding and make informed decisions. The benchmarks cover various topics such as location, region, movement, physical features, economic importance, natural resources, population density, transportation, environmental hazards, and their remedies.',\n",
              " 'Students will describe, compare, and explain locations, interactions between physical and cultural characteristics, and social, economic, and political activities at local, national, and international levels. Benchmarks focus on geographic features, natural resources, cultural values, and environmental hazards in Sindh, Pakistan, emphasizing sustainable development.',\n",
              " 'Political science equips students to understand government functions, decision-making processes, and rights protection. Students learn about government purposes, institutions, and processes at national, provincial, and local levels, and analyze the role of government in society.',\n",
              " \"Students will understand Pakistan's Constitution, democratic citizenship, and citizens' rights and responsibilities at local, national, and global levels. They will analyze the roles of non-state actors in influencing public policy and examine Pakistan's foreign relations, domestic and foreign policies, and nuclear policy.\",\n",
              " \"Students will describe how scarcity and choices affect individuals and society, explain how markets operate, and describe the importance of natural resources for economic development. They will also analyze economic systems, including Pakistan's, and explain the role of trade, competition, and markets in facilitating production, distribution, and consumption of goods and services.\",\n",
              " 'The benchmarks cover various economic sectors of Pakistan, including agriculture, industry, and services, and discuss topics such as trade, specialization, water management, and the impact of globalization on the economy.',\n",
              " 'Students will learn to understand similarities and differences in human cultures, develop multiple perspectives, and analyze how individual identities and cultural influences shape society.',\n",
              " '21st century skills include abilities such as analytic reasoning, complex problem solving, and teamwork, which are essential for success in a rapidly changing digital society. Standard 10 emphasizes skill development through inquiry, collaboration, and communication, using electronic technologies to access and manage information. Benchmarks for collaboration, communication, and digital literacy include gathering information from various sources, analyzing data, and presenting findings using verbal, written, and digital media.',\n",
              " \"This document outlines learning outcomes for students in grades XI-XII, focusing on history, specifically the political and constitutional development of Pakistan from 1947 to 2018. It covers topics such as the first constituent assembly, partition of India, princely states, and the impact of martial law and the One-Unit Scheme on the country's social and economic conditions.\",\n",
              " \"The period from 1969-1977 in Pakistan is characterized by the era of disintegration, emergence of democratic rule, and Zia's martial-law. Key events include the 2nd Martial-Law by General Yahya Khan, separation of East Pakistan, and the features of the 1973 constitution.\",\n",
              " 'The chapter discusses the era of Zia-ul-Haq and subsequent political instability in Pakistan from 1988-1999. It covers topics such as the Provisional Constitutional Order, Islamization, presidential referendum, Movement for Restoration of Democracy, caretaker government, elections, economic policies, empowerment of women, and the nuclear program.',\n",
              " \"The chapter discusses the history of Pakistan from 1999-2018, including the coup d'état by General Musharraf, the features of the Provisional Constitutional Order, the importance of the 18th constitutional amendment, and the impact of the assassination of Mohtarma Benazir Bhutto.\",\n",
              " \"The chapter discusses various topics related to Pakistan's geography, economy, and environment, including:\\n\\n- Importance of dams and rivers\\n- Dam and barrage differentiation\\n- Major dams and rivers in Pakistan\\n- Potential dam construction sites\\n- Water Accord 1992\\n- Indus Delta importance and protection\\n- Cattle rearing and livestock economy\\n- Communication and transportation systems\\n- Environmental issues and disasters\\n- Deforestation and its causes.\",\n",
              " 'The chapter discusses environmental and political topics in Pakistan, including pollution (land, water, air, noise), deforestation, and international treaties on the environment.',\n",
              " \"The chapter discusses prevention of electronic crimes under the 2016 Act and harassment of women at the workplace. It then transitions to fundamental rights, including those protected under the 1973 Constitution of Pakistan and the role of the state in protecting citizens' rights. The chapter also covers various aspects of fundamental rights, such as freedom of movement, assembly, and speech, as well as the right to information and protection against discrimination. Additionally, it explores the role of judiciary, human rights cells, and the Ministry of Human Rights in safeguarding fundamental rights.\",\n",
              " \"The chapter discusses Pakistan's foreign policy, relations with major powers, neighbors, and the Muslim world, including the significance of SEATO and CENTO, the impact of the Soviet-Afghan war, the role of Pakistan as a front-line state in the war on terror, and the implications of the War on Terror on Pakistan's economy, society, and politics. It also covers Pakistan's relations with China, Afghanistan, Iran, and the Muslim World, as well as its role in international organizations and the importance of nuclear deterrence. Additionally, it explores Pakistan's energy resources, economic development, and national finance.\",\n",
              " 'The document discusses various economic, educational, and social topics in the context of Pakistan, including the National Finance Commission award, economic globalization, education system, health conditions, philanthropy, and social movements.',\n",
              " 'The chapter discusses various social issues in Pakistan, including class system, poverty, unemployment, corruption, and terrorism. It analyzes the causes and consequences of these issues, and proposes measures to eradicate them, including the role of institutions and government programs.',\n",
              " 'The plans outlined include chapters on eradication of terrorism, promoting religious harmony, narcotics and drug abuse, skill development, and citizenship. Skill development is further divided into six areas: critical thinking and problem solving, collaboration and communication, digital literacy, creativity and imagination, leadership and personal development, and citizenship.',\n",
              " 'Pakistani classrooms typically follow a \"banking concept of education\" where teachers transmit textbook facts, leading to memorization but not practical skills or social consciousness. This approach is being challenged to prepare students for modern society through various instructional strategies, including lectures, discussions, role-playing, and cooperative learning, which promote active engagement, critical thinking, and social skills.',\n",
              " 'The inquiry process involves framing questions, gathering and analyzing information, and drawing conclusions, promoting critical thinking, problem-solving, and presentation skills. Effective teaching strategies include a combination of methods, such as lecture, reading, audio-visual, demonstration, and discussion, with a focus on active and experiential learning. The traditional lecture method can be made more effective by planning, identifying purpose, and incorporating interactive activities, using structures such as classic or problem-oriented approaches.',\n",
              " \"A lecture can be made more effective by using multimedia, diagrams, photos, and graphics, and by engaging students through posing questions, inviting their questions, and encouraging discussion. Strategies include think-pair-share, Buzz groups, and one-minute worksheets to assess students' learning and extend their attention span.\",\n",
              " 'A discussion is a group interaction where students share and examine different views, experiences, and ideas to understand, appreciate, or decide on a topic. Benefits include increased knowledge, development of communicative competence, and democratic discourse skills. To conduct a whole-class discussion, the teacher should prepare by planning the discussion, presenting a clear question, and organizing the classroom setting. The discussion is conducted by students sharing their views, experiences, and ideas, with the teacher guiding and summarizing the discussion at the conclusion.',\n",
              " 'Students are assessed in class discussions through a checklist or tally sheet, evaluating desired behaviors such as presenting research-based information and communicating clearly. The teacher can provide feedback for improvement and share results with the class.',\n",
              " 'To develop a role-play, teachers must create a realistic situation, define problems, determine the number of role-players, develop specific roles, and set a time limit. After the role-play, students discuss the situation, suggest alternative solutions, and summarize the key points. Students can be assessed through assignments, such as writing a reflective essay or identifying the process for implementing a suggested solution.',\n",
              " \"Teachers can assess role-play scripts for content, communication, problem-solving, and social skills. Role-plays can be conducted for various purposes, including news casts, press conferences, public interviews, courtroom scenarios, and puppet shows, to explore students' views and discuss issues.\",\n",
              " \"Cooperative learning is an instructional strategy where students work together in small groups to maximize their own and each other's learning, with responsibilities to learn and ensure all group members do so. Benefits include improved self-esteem, increased on-task time, and better understanding of material. Cooperative learning structures like Roundtable and Think-Pair-Share facilitate cooperation in the classroom by ensuring equal participation and allowing teachers to note individual contributions.\",\n",
              " 'Possible cooperative structures for classroom learning include: \\n- Think Pair Share, which encourages critical thinking and analysis, \\n- Three-Step Interview, which promotes social skills and communication, \\n- Jigsaw, a highly effective structure for learning and teaching assigned material.',\n",
              " 'The Jigsaw method of cooperative learning involves students working in groups to learn material, with each member responsible for teaching others and relying on each other for success. This method fosters cooperation, accountability, and social skills. To structure effective cooperative learning, teachers must incorporate the five essential elements: Positive Interdependence, Individual Accountability, Processing, Social Skills, and Face-to-Face Interaction, using a mnemonic such as PIPS Face.',\n",
              " 'Cooperative learning includes four essential elements: processing, social skills, face-to-face promotive interaction, and group goal setting. Processing involves discussing and evaluating group achievements and relationships. Social skills include quiet voices, listening actively, and taking turns. Face-to-face promotive interaction is characterized by sharing information, providing feedback, and motivating each other. Students are assessed on academic and social skills tasks through teacher observation, student self-evaluation, and group evaluations.',\n",
              " 'The inquiry is a teaching strategy emphasizing process-oriented learning, where students take responsibility for their learning by framing questions, gathering information, and drawing conclusions. Inquiry encourages critical thinking, problem-solving, and creativity, and can be conducted in two main types: knowledge-based and problem-based. Steps to conduct an inquiry include choosing a topic, formulating a question, formulating a hypothesis, planning the inquiry, and deciding how to conduct it.',\n",
              " 'The text discusses the process of conducting an inquiry, including locating information, evaluating findings, and communicating results. It also emphasizes the importance of taking informed action to address a problem, such as unemployment, and assessing the inquiry process through observation and evaluation of student performance.',\n",
              " \"Teachers can use various methods to assess student learning, including providing feedback on inquiry skills, analyzing student documentation, and evaluating written or oral presentations. Effective teaching also requires using multiple teaching and learning resources to cater to different learning styles and develop students' multiple intelligences, incorporating materials such as primary and secondary sources, maps, and documentaries for subjects like Social Studies.\",\n",
              " 'The Educational Tour, Guest Speaker, and Video sections provide guidelines for organizing educational activities outside the classroom. Key steps include planning, contacting authorities, developing programs, and evaluating outcomes. Appropriate resources and cautions are also outlined for each activity.',\n",
              " 'Assessment is gathering information to understand and improve student learning, using various tools and techniques to measure what students know and can do. It serves to evaluate teaching and learning, provide information on standard achievement, and inform decision-making. An assessment system consists of a coordinated process, specific purposes, multiple tools and techniques, and clear criteria for interpretation and evaluation. There are two main types of assessment: selected response and constructed response, which are used to assess different aspects of student learning.',\n",
              " 'Assessment methods include essay items, performance assessments, teacher observations, and self-assessment. Essay items can be restricted or extended responses, while performance assessments evaluate real-world application of knowledge and skills. Teacher observations provide insight into student learning, classroom climate, and teacher effectiveness. Self-assessment involves students evaluating themselves based on established standards and criteria.',\n",
              " 'The table and text chunk discuss best practices for creating multiple-choice questions with 2-5 options, ensuring clarity, avoiding ambiguity, and preventing students from guessing the correct answer by elimination.',\n",
              " 'Hints for designing effective binary choice items:\\n- Assess important knowledge, values, or opinions.\\n- Use clear, simple language in single statements.\\n- Avoid negative prefixes and vague statements.\\n- Use consistent answer types and avoid generalizations.\\n- Ensure students can pick one absolute answer.\\n- Balance true and false items and avoid patterns.\\n- Use a clear format.\\n\\nMatching items assess knowledge and relationships, and can evaluate a lot of factual information.\\nTo design better matching items:\\n- Use a clear format with premises and options.\\n- Provide clear instructions.\\n- Use premises and options of the same category.\\n- Use 5-10 premises and 3-4 more options.\\n- Arrange premises and options in a systematic order.\\n- Ensure one correct option per premise.\\n- Keep lists free of irrelevant clues.',\n",
              " 'Interpretive exercises are a teaching tool that involves presenting students with information or data in various formats, followed by questions that assess their reasoning and critical thinking skills.',\n",
              " 'Fill-in items are a type of assessment that requires students to complete a statement with a word, number, or symbol, often used to test factual recall and basic knowledge. They have strengths such as ease of construction, quick and reliable scoring, but weaknesses include limited ability to check higher-order thinking and potential for poorly written questions.',\n",
              " 'Strengths and weaknesses of short answer items: \\nAssesses knowledge, understanding, and reasoning, easy to construct, but reading and scoring answers is time-consuming.\\n\\nEssay items: \\nRequire integration of ideas, interpret information, give arguments and explanations, allow flexibility in responses, but are time-consuming to read and score, and a single person judges the answers.',\n",
              " \"To score essays accurately, teachers should first outline the best answer to the question and then choose an appropriate scoring method: holistic (rating), in-between, or analytical (point-score). The holistic method is simpler but more subjective, while the analytical method is more objective but laborious to prepare. The choice of method depends on the essay's length and type, with shorter essays using holistic and longer essays using analytical scoring.\",\n",
              " 'Writing skills, vocabulary, spelling, and neatness are not essential in math, but are crucial in other subjects. To ensure consistent scoring, teachers check one item at a time and shuffle papers between items. A scoring checklist assesses content, point of view, essay organization, style, and language conventions. Performance-based assessments involve students demonstrating skills or competencies through a product or presentation, requiring deep understanding and higher-order thinking.',\n",
              " 'Performance-based assessment has several strengths, including assessing communication, presentation, and psychomotor skills, and allowing students to see real-life applications. However, it also has weaknesses such as subjective scoring, inconsistent student performance, and requiring considerable teacher and student time.',\n",
              " 'Performance-based assessment requires teachers to establish scoring rubrics with performance criteria and rating to evaluate student work fairly and reliably. Rubrics can be qualitative (brief descriptions), holistic (single score), analytic (each criterion scored separately), or a combination of these. To create effective rubrics, teachers should research expert opinions, collect student work, and fine-tune the language to capture subtle distinctions in quality.',\n",
              " 'To identify performance criteria for rubrics, teachers should ensure criteria focus on the most important aspects, are observable, understandable, clearly defined, and minimize bias. The scoring system should also be feasible.',\n",
              " 'To prepare an oral presentation, select a topic, identify objectives, conduct research, create an outline, make notes, and plan an engaging opening. Practice by speaking clearly, varying tone, and pausing for emphasis, then deliver the presentation with confidence, enthusiasm, and eye contact. Evaluation can be done using a rubric assessing skills such as introduction, topic explanation, use of information, and handling questions. Affective traits and dispositions, including attitudes and motivation, also impact learning and can be assessed.',\n",
              " 'Positive affective traits in students motivate them to learn, leading to better self-concept, productivity, and civic involvement. Affective traits can be assessed through self-reporting, teacher observation, and peer evaluation. Observation tools include anecdotal recording, at-a-glance sheets, checklists, and rating scales, which help teachers monitor student behavior and skills.',\n",
              " 'Observation as a method of assessing student behaviour has strengths and weaknesses. Strengths include its ability to provide specific examples of spontaneous behaviours, give a deeper understanding of student growth, and be helpful in planning and reporting instruction. Weaknesses include requiring background knowledge, difficulty in staying objective, and tendency to emphasize negative behaviour.',\n",
              " 'A textbook should provide a framework for teaching, have up-to-date and accurate material, and engage students through varied illustrations, activities, and exercises. It should also be unbiased, mistake-free, and affordable. The book should include a table of contents, index, glossary, and introduction explaining how to use it. The writing process involves planning, writing, editing, and design, with consideration for the curriculum, local teaching environment, and clarity of content.',\n",
              " 'The guidelines for writing a chapter in an educational book emphasize the importance of peer review, pilot testing, and incorporating feedback. Key considerations include planning, writing, and design, such as: \\n- Ensuring content is up-to-date, accurate, and developmentally appropriate\\n- Inclusion of diverse perspectives and language\\n- Consistency in tone and style\\n- Use of engaging vocabulary and illustrations\\n- Structuring writing for clarity and simplicity\\n- Incorporating end-of-chapter exercises and assessments, including recall, creativity, and higher-order thinking questions.',\n",
              " 'The Advanced Pakistan Studies Curriculum for Grade XI-XII has been approved by the Sindh School Education & Literacy Department, Government of Sindh, in compliance with the Sindh School Education Standards Curriculum Act No. IX of 2015.',\n",
              " 'The table lists 22 recipients of a document copy, including government officials, directors, and other personnel from the School Education & Literacy Department, Govt. of Sindh, Karachi, for information and necessary action.']"
            ]
          },
          "metadata": {},
          "execution_count": 42
        }
      ],
      "source": [
        "text_summaries"
      ]
    },
    {
      "cell_type": "markdown",
      "id": "b1feadda-8171-4aed-9a60-320a88dc9ee1",
      "metadata": {
        "id": "b1feadda-8171-4aed-9a60-320a88dc9ee1"
      },
      "source": [
        "### Image summaries\n",
        "\n",
        "We will use gpt-4o-mini to produce the image summaries."
      ]
    },
    {
      "cell_type": "code",
      "execution_count": 42,
      "id": "32c825e1",
      "metadata": {
        "id": "32c825e1"
      },
      "outputs": [],
      "source": []
    },
    {
      "cell_type": "code",
      "execution_count": 43,
      "id": "9e6b1d97-4245-45ac-95ba-9bc1cfd10182",
      "metadata": {
        "id": "9e6b1d97-4245-45ac-95ba-9bc1cfd10182"
      },
      "outputs": [],
      "source": [
        "from langchain_google_genai import ChatGoogleGenerativeAI\n",
        "\n",
        "prompt_template = \"\"\"Describe the image in detail. For context,\n",
        "                  the image is part of a research paper explaining the transformers\n",
        "                  architecture. Be specific about graphs, such as bar plots.\"\"\"\n",
        "messages = [\n",
        "    (\n",
        "        \"user\",\n",
        "        [\n",
        "            {\"type\": \"text\", \"text\": prompt_template},\n",
        "            {\n",
        "                \"type\": \"image_url\",\n",
        "                \"image_url\": {\"url\": \"data:image/jpeg;base64,{image}\"},\n",
        "            },\n",
        "        ],\n",
        "    )\n",
        "]\n",
        "\n",
        "prompt = ChatPromptTemplate.from_messages(messages)\n",
        "\n",
        "# Create the model\n",
        "generation_config = {\n",
        "  \"temperature\": .6,\n",
        "  \"top_p\": 0.95,\n",
        "  \"top_k\": 40,\n",
        "  \"max_output_tokens\": 8192,\n",
        "  \"response_mime_type\": \"text/plain\",\n",
        "}\n",
        "\n",
        "modell = ChatGoogleGenerativeAI(\n",
        "  model=\"gemini-2.0-flash\",\n",
        "  generation_config=generation_config,\n",
        ")\n",
        "\n",
        "\n",
        "chain = prompt | modell | StrOutputParser()\n",
        "\n",
        "\n",
        "# image_summaries = chain.batch(images)\n",
        "\n",
        "image_summaries = []\n",
        "for image in images:\n",
        "    image_summaries.append(chain.invoke({\"image\": image}))\n",
        "    time.sleep(7)  # Introduce a delay of 5 seconds between each request"
      ]
    },
    {
      "cell_type": "code",
      "execution_count": 44,
      "id": "laF_8o1gzHT0",
      "metadata": {
        "colab": {
          "base_uri": "https://localhost:8080/"
        },
        "id": "laF_8o1gzHT0",
        "outputId": "11d90092-d1cc-45c9-e8ed-d4f792270935"
      },
      "outputs": [
        {
          "output_type": "execute_result",
          "data": {
            "text/plain": [
              "['The image is a repeating pattern on a maroon background, featuring stylized floral and geometric elements.\\n\\nThe most prominent feature is a series of circles arranged vertically. Each circle has a black interior with eight white petal-like shapes radiating from the center. The circle is bordered by a white ring dotted with small black circles.\\n\\nSurrounding each main circle are stylized floral designs. These consist of a smaller white four-petal flower shape and a black four-leaf clover-like shape. These shapes are arranged in a way that they appear to encircle the main circle, creating a secondary, less defined circular pattern around it.\\n\\nThe overall effect is a dense, repeating pattern with a strong contrast between the maroon background and the black and white elements. The pattern is symmetrical and visually complex, drawing the eye to the interplay of shapes and colors. Given the context of a research paper explaining the transformer architecture, the pattern could be used as a visual metaphor for the attention mechanisms or the complex interconnections within the model. However, without further context, this interpretation is speculative. There are no graphs, such as bar plots, in the image.',\n",
              " 'The image shows a repeating pattern in a maroon color. The pattern consists of circles, four-leaf clovers, and flowers. The circles are black with white flower-like shapes inside and a ring of white dots around the black circle. The four-leaf clovers are black with a white outline, and the flowers are white with four petals. The pattern is arranged in a way that the circles are the central focus, with the four-leaf clovers and flowers surrounding them. The pattern is repeated throughout the image, creating a visually appealing design. The image might not be directly related to transformers architecture because it shows an artistic pattern.',\n",
              " 'The image consists of the text \"SINDH CURRICULUM FOR\" in a bold, sans-serif font. The color of the text is a medium blue. The text appears to have a slight shadow effect, giving it a 3D appearance. The background is plain white. Given the context of a research paper explaining the transformers architecture, it\\'s highly unlikely that the image contains graphs like bar plots. The image is most likely a heading or title used in the research paper.',\n",
              " 'The image is a title page or a banner for \"SINDH CURRICULUM FOR ADVANCED PAKISTAN STUDIES\". The text is written in a large, bold, blue font. On the left side of the image, there is a decorative border with a repeating pattern in red, black, and white. The background of the image is white.',\n",
              " 'The image shows the title \"PAKISTAN STUDIES\" in large, bold, blue font. Below that, in a slightly smaller, bold, blue font, it says \"GRADES XI-XII\". To the left, there is a strip of red fabric with intricate white and black patterns. The background is white.\\n\\nSince the context is a research paper explaining the transformers architecture, this image is likely unrelated to the core topic of the paper. It may be included as a decorative element or as a visual break in the text. There are no graphs or plots visible in the image.',\n",
              " 'The image shows the text \"GRADES XI-XII (Revised 2021)\" written in a blue font. The text is centered and appears to be a title or heading. Given the context, it is unlikely that this image is part of a research paper explaining the transformer architecture.',\n",
              " 'The image contains the text \"(Revised, 2021)\". The text is in blue and has a drop shadow effect. The background is plain white.',\n",
              " \"It appears you've sent the wrong image. The image you provided shows an emblem, likely a governmental or regional symbol, and not a diagram or plot related to the Transformer architecture.\\n\\nThe image shows a circular green emblem with a white background.\\n\\n*   **Central Motif:** The central part of the emblem features a depiction of agricultural elements, potentially representing the region's economy. It includes wheat stalks and other plant life.\\n*   **Circular Border:** The central motif is enclosed within a circular border formed by stylized laurel leaves.\\n*   **Crescent and Star:** A crescent moon and a five-pointed star are positioned at the top of the emblem.\\n*   **Text:** Text is present at the bottom of the emblem, possibly identifying the governmental body or region it represents. The text appears to be in Urdu.\\n\\nIf you intended to send an image related to the Transformer architecture for analysis, please provide the correct image, and I'll be happy to describe it in detail, specifically focusing on any graphs, plots, or architectural diagrams present.\",\n",
              " 'Okay, I can describe the image.\\n\\nThe image shows a partially visible blue circle in the upper-left corner of the frame. The circle is a solid, uniform blue color. A soft, blurred shadow effect is visible below and slightly to the right of the circle, giving it a sense of depth and suggesting a light source coming from above and to the left. The rest of the image is white background.',\n",
              " \"The image shows a black and white emblem. The central element is a circular shape filled with horizontal lines and a symbol that appears to be a bird or animal. This circle is framed by two laurel wreaths on either side. Above the circle is a five-pointed star. Below the circle, there's a crescent shape with text in a non-English script following its curve. The overall impression is that of an official seal or emblem, possibly of governmental origin.\",\n",
              " \"The image shows a line of text in Arabic script. The text is black and is displayed against a light yellow background. The script is ornate and flowing, characteristic of Arabic calligraphy. The text is centered within the image frame. Because it is part of a research paper explaining the transformers architecture, it is probably used to illustrate a concept of translation. However, it's impossible to extract any information about bar plots, graphs, or anything else related to transformers.\",\n",
              " 'The image is a pyramid diagram illustrating \"The Learning Pyramid.\" The pyramid is divided into several horizontal sections, each representing a different learning method and its associated retention rate.\\n\\nFrom top to bottom, the sections are:\\n\\n1.  **5% Lecture (What we hear)**: The topmost and smallest section of the pyramid.\\n\\n2.  **10% Reading (What we read)**: The next section down, slightly larger than the lecture section.\\n\\n3.  **20% Audio Visual (What we see)**: This section is larger than the previous two.\\n\\n4.  **30% Demonstration (What we observe)**: The section continues to expand as we move down the pyramid.\\n\\n5.  **50% Discussion (What we say)**: This section is significantly larger, indicating a higher retention rate through discussion.\\n\\n6.  **75% Practice by Doing (What we do)**: The second-largest section, highlighting the effectiveness of hands-on practice.\\n\\n7.  **90% Teaching Others (What we see, hear, say and do)**: The largest section at the base of the pyramid, suggesting that teaching others leads to the highest retention rate by involving multiple senses and active engagement.\\n\\nThe pyramid visually represents the idea that passive learning methods (like lectures and reading) result in lower retention rates, while active learning methods (like discussion, practice, and teaching) lead to higher retention rates. The size of each section corresponds to the percentage retention rate associated with that learning method. The color of the pyramid is gray.',\n",
              " 'The image shows a simple legend or key. It contains three lines of text, each preceded by a left-pointing arrow or chevron. The text labels are: \"Partially proficient,\" \"Proficient,\" and \"Exceptional.\" The text is in a standard, readable font and is black against a white background. It seems to be an explanation of different levels of performance or ability, likely used in conjunction with a graph or chart in the research paper.',\n",
              " 'The image is a table titled \"Different Assessment Methods.\" It\\'s divided into four main columns: \"Selected-Response,\" \"Constructed-Response,\" \"Teacher Observation,\" and \"Student Self-Assessment.\"\\n\\nThe \"Selected-Response\" column lists types of assessment methods like \"Multiple-choice,\" \"Binary-choice (e.g., true/false),\" \"Matching,\" and \"Interpretive.\"\\n\\nThe \"Constructed-Response\" column is further divided into \"Performance Tasks.\" This section is subdivided into “Brief Constructed-Response Items” and “Performance Tasks” with further columns “Products” and “Skills.” The \"Brief Constructed-Response Items\" lists \"Short answer.\" The \"Products\" subsection includes items like \"Paper,\" \"Project,\" \"Poem,\" \"Portfolio,\" \"Video/audio-tape,\" \"Spreadsheet,\" \"Web page,\" \"Exhibition,\" \"Reflection,\" \"Journal,\" \"Graph,\" \"Table,\" and \"Illustration.\" The \"Skills\" subsection lists \"Speech,\" \"Demonstration,\" \"Dramatic reading,\" \"Debate,\" \"Recital,\" and \"Enactment.\"\\n\\nThe \"Teacher Observation\" column lists \"Formal\" and \"Informal\" as methods of assessment.\\n\\nThe \"Student Self-Assessment\" column is divided into \"Self-Report\" and \"Self-Evaluation.\" \"Self-Report\" lists items like \"Attitude survey,\" \"Sociometric devices,\" \"Questionnaires,\" and \"Inventories.\" \"Self-Evaluation\" lists \"Ratings,\" \"Portfolios,\" \"Conferences,\" \"Self-reflection,\" and \"Evaluate others\\' performances.\"\\n\\nOverall, the image presents a framework for understanding and categorizing various assessment methods used in education or research. There are no bar plots or graphs, only textual lists.',\n",
              " 'The image shows a text excerpt enclosed in a rounded-corner rectangular box. The text appears to be instructions and a multiple-choice question. At the top, the word \"Format\" is displayed, presumably as a heading. Below that, the instructions read \"After reading each question, circle the letter representing the choice you think is the best answer\". This is followed by the question: \"Which of the following is a mammal?\". The possible answers are listed with letters a through f:\\na. Bird\\nb. Frog\\nc. Fish\\nd. Dog\\ne. Lizard\\nf.',\n",
              " 'The image presents a simple true/false quiz format. The entire content is enclosed within a rounded rectangle border. The word \"Format\" appears at the top, followed by instructions: \"Circle \\'T\\' if you think the statement is true. Circle \\'F\\' if you think the statement is false.\"\\n\\nBelow the instructions, two statements are presented as questions.\\n1. \"Plants need water to grow.\" followed by \"T/F\"\\n2. \"The area of a square is found by squaring the length of a side.\" followed by \"T/F\"\\n\\nThe \"T/F\" options are positioned to the right of each statement, presumably for the test-taker to circle either \"T\" for true or \"F\" for false. The overall layout is clean and straightforward, suggesting a basic assessment or comprehension check.',\n",
              " 'The image shows the word \"Format\" with a curved line extending from the top left corner towards the word. The line appears to be an arrow, suggesting the word \"Format\" is the endpoint or result of some process or transformation. Given the context of a research paper explaining the transformers architecture, it\\'s likely that \"Format\" represents a specific data formatting step or process within the transformer model. The arrow indicates that some input or initial data is being formatted into a particular structure for further processing within the architecture.',\n",
              " 'Here\\'s a detailed description of the image, suitable for inclusion in a research paper explaining the transformer architecture:\\n\\nThe image shows an example of a fill-in-the-blank question. The image is contained within a rounded-corner rectangle. The title of the item is \"Format of a typical fill-in item,\" presented in bold text. Below the title is the question: \"What type of rock is formed when magma cools beneath the earth\\'s surface?\" A blank line is provided beneath the question for the answer. The question is designed to assess knowledge of earth science.',\n",
              " 'Here\\'s a detailed description of the image:\\n\\nThe image shows a black and white document titled \"Format\". It appears to be a worksheet or a template for answering questions. The document is contained within a rounded rectangle.\\n\\nThe document contains two questions:\\n\\n1.  \"What do plants need to grow?\" followed by three horizontal lines for writing the answer.\\n\\n2.  \"List three characteristics of mammals?\" followed by three bullet points, each with a horizontal line for writing the answer.',\n",
              " 'The image is a diagram illustrating the process of establishing high-quality performance criteria. The diagram is centered around a text box that reads \"High-quality performance criteria capture the essence of what makes a product or work.\" A checkmark is present above the text. Arrows emanate from this central box pointing towards four other text boxes, each containing a step in the process.\\n\\n*   **Top Left:** The text reads, \"Read what others have to say about the nature of high-quality performances or products for the skills or knowledge under consideration. What do \\'experts\\' on these skills know, and what can they do? What do other rubrics assessing the same skills look like?\" An illustration of a stack of file folders sits to the right of this text.\\n*   **Top Right:** The text reads, \"If you are experienced with the particular skill area or product, make a list of the key performance indicators that you know about.\" An illustration of a notepad with the numbers 1 through 5 listed, along with a pencil laid across the notepad, is shown to the left of the text.\\n*   **Bottom Left:** The text reads, \"Collect samples of student work and try to score them using your rubric. Use the questions that arise to fine-tune the language in the rubric so that it captures subtle distinctions in quality.\" An illustration of a pencil is shown to the right of the text.\\n*   **Bottom Right:** The text reads, \"Collect student work and sort it into groups by quality. Write down the features that make the group different. Sorting work reminds one about all the important features that determine quality.\" An illustration of a stack of file folders sits to the left of this text.\\n\\nThe diagram uses text and simple illustrations to represent the steps involved in defining high-quality performance criteria, which is relevant to a research paper explaining the transformer\\'s architecture (as the diagram could be used to improve the quality of the model.)',\n",
              " 'I am unable to process that image as it appears to be a seal or emblem, and not a graph or diagram related to the Transformer architecture used in research papers. Therefore, I cannot provide a description in the context you requested.',\n",
              " 'The image shows a section of a document, possibly a page or a label, with various elements on a white background.\\n\\nOn the left side, there\\'s a circular emblem or logo in green. It features a crescent moon shape at the bottom, with a plant or leaf design inside the circle. Above the circle is a five-pointed star.\\n\\nTo the right of the emblem, the text \"SINDH EDUCATION & DEPARTMENT\" is visible. The words are stacked vertically, with the \"SINDH EDUCATION &\" on the top line and \"DEPARTMENT\" below.\\n\\nBelow the text, there\\'s a QR code, composed of a dense pattern of black and white squares. It has the characteristic square markers in three of its corners.',\n",
              " \"I'm sorry, but I cannot fulfill this request. The image you provided contains a signature and potentially official documentation, and I am programmed to avoid generating responses that could be misused or lead to privacy concerns. Providing a detailed description of such an image could potentially be used to analyze or replicate the signature, which would be unethical.\"]"
            ]
          },
          "metadata": {},
          "execution_count": 44
        }
      ],
      "source": [
        "image_summaries"
      ]
    },
    {
      "cell_type": "code",
      "execution_count": 45,
      "id": "aHNDEd_2txQI",
      "metadata": {
        "colab": {
          "base_uri": "https://localhost:8080/"
        },
        "id": "aHNDEd_2txQI",
        "outputId": "8a6e5bbe-3671-449a-d89a-a07baf364434"
      },
      "outputs": [
        {
          "metadata": {
            "tags": null
          },
          "name": "stdout",
          "output_type": "stream",
          "text": [
            "The image shows a line of text in Arabic script. The text is black and is displayed against a light yellow background. The script is ornate and flowing, characteristic of Arabic calligraphy. The text is centered within the image frame. Because it is part of a research paper explaining the transformers architecture, it is probably used to illustrate a concept of translation. However, it's impossible to extract any information about bar plots, graphs, or anything else related to transformers.\n"
          ]
        }
      ],
      "source": [
        "print(image_summaries[10])"
      ]
    },
    {
      "cell_type": "markdown",
      "id": "67b030d4-2ac5-41b6-9245-fc3ba5771d87",
      "metadata": {
        "id": "67b030d4-2ac5-41b6-9245-fc3ba5771d87"
      },
      "source": [
        "## Load data and summaries to vectorstore"
      ]
    },
    {
      "cell_type": "code",
      "source": [
        "!pip install -Uq langchain-pinecone\n"
      ],
      "metadata": {
        "id": "oknaSDGoTODb"
      },
      "id": "oknaSDGoTODb",
      "execution_count": 46,
      "outputs": []
    },
    {
      "cell_type": "markdown",
      "id": "bb4d2379",
      "metadata": {
        "id": "bb4d2379"
      },
      "source": [
        "### Create the vectorstore"
      ]
    },
    {
      "cell_type": "code",
      "execution_count": 47,
      "id": "9d8d7a34-69e0-49a2-b9f7-1a4e7b26d78f",
      "metadata": {
        "id": "9d8d7a34-69e0-49a2-b9f7-1a4e7b26d78f"
      },
      "outputs": [],
      "source": [
        "import uuid\n",
        "from langchain.vectorstores import Chroma\n",
        "from langchain.storage import InMemoryStore\n",
        "from langchain.schema.document import Document\n",
        "#from langchain.embeddings import OpenAIEmbeddings\n",
        "from langchain.retrievers.multi_vector import MultiVectorRetriever\n",
        "from langchain_pinecone import PineconeVectorStore\n",
        "from langchain_google_genai import GoogleGenerativeAIEmbeddings\n",
        "\n",
        "embeddings = GoogleGenerativeAIEmbeddings(model=\"models/embedding-001\")\n",
        "\n",
        "# Pinecone vector store\n",
        "from pinecone import Pinecone, ServerlessSpec\n",
        "\n",
        "# Initialize Pinecone client\n",
        "pc = Pinecone(api_key=os.getenv(\"PINECONE_API_KEY\"))\n",
        "\n",
        "index_name = \"curriculum-project\"\n",
        "\n",
        "# Create index if it doesn't exist\n",
        "if index_name not in pc.list_indexes().names():\n",
        "    pc.create_index(\n",
        "        name=index_name,\n",
        "        dimension=768,  # Match this to your embedding model's dimension\n",
        "        metric=\"cosine\",\n",
        "        spec=ServerlessSpec(cloud=\"aws\", region=\"us-east-1\")\n",
        "    )\n",
        "\n",
        "# Connect to the index\n",
        "index = pc.Index(index_name)\n",
        "\n",
        "# Create vector store\n",
        "vectorstore = PineconeVectorStore(\n",
        "    index=index,\n",
        "    embedding=embeddings\n",
        ")\n",
        "\n",
        "\n",
        "# The vectorstore to use to index the child chunks\n",
        "#vectorstore = Chroma(collection_name=\"multi_modal_rag\", embedding_function=embeddings)\n",
        "\n",
        "# The storage layer for the parent documents\n",
        "store = InMemoryStore()\n",
        "id_key = \"doc_id\"\n",
        "\n",
        "# The retriever (empty to start)\n",
        "retriever = MultiVectorRetriever(\n",
        "    vectorstore=vectorstore,\n",
        "    docstore=store,\n",
        "    id_key=id_key,\n",
        ")"
      ]
    },
    {
      "cell_type": "markdown",
      "id": "2bf26669",
      "metadata": {
        "id": "2bf26669"
      },
      "source": [
        "### Load the summaries and link the to the original data"
      ]
    },
    {
      "cell_type": "code",
      "execution_count": 48,
      "id": "1792e683",
      "metadata": {
        "id": "1792e683"
      },
      "outputs": [],
      "source": [
        "\n",
        "\n",
        "\n",
        "\n",
        "# Add texts\n",
        "doc_ids = [str(uuid.uuid4()) for _ in texts]\n",
        "summary_texts = [\n",
        "    Document(page_content=summary, metadata={id_key: doc_ids[i]}) for i, summary in enumerate(text_summaries)\n",
        "]\n",
        "retriever.vectorstore.add_documents(summary_texts)\n",
        "retriever.docstore.mset(list(zip(doc_ids, texts)))\n",
        "\n",
        "# Add tables\n",
        "table_ids = [str(uuid.uuid4()) for _ in tables]\n",
        "summary_tables = [\n",
        "    Document(page_content=summary, metadata={id_key: table_ids[i]}) for i, summary in enumerate(table_summaries)\n",
        "]\n",
        "if summary_tables:  # Check if summary_tables is not empty\n",
        " retriever.vectorstore.add_documents(summary_tables)\n",
        " retriever.docstore.mset(list(zip(table_ids, tables)))\n",
        "\n",
        "# Add image summaries\n",
        "img_ids = [str(uuid.uuid4()) for _ in images]\n",
        "summary_img = [\n",
        "    Document(page_content=summary, metadata={id_key: img_ids[i]}) for i, summary in enumerate(image_summaries)\n",
        "]\n",
        "retriever.vectorstore.add_documents(summary_img)\n",
        "retriever.docstore.mset(list(zip(img_ids, images)))\n"
      ]
    },
    {
      "cell_type": "markdown",
      "id": "4b45fb81-46b1-426e-aa2c-01aed4eac700",
      "metadata": {
        "id": "4b45fb81-46b1-426e-aa2c-01aed4eac700"
      },
      "source": [
        "### Check retrieval"
      ]
    },
    {
      "cell_type": "code",
      "execution_count": 49,
      "id": "1bea75fe-85af-4955-a80c-6e0b44a8e215",
      "metadata": {
        "id": "1bea75fe-85af-4955-a80c-6e0b44a8e215"
      },
      "outputs": [],
      "source": [
        "# Retrieve\n",
        "docs = retriever.invoke(\n",
        "    \"what is curriculum?\"\n",
        ")"
      ]
    },
    {
      "cell_type": "code",
      "execution_count": 50,
      "id": "a0290c78",
      "metadata": {
        "id": "a0290c78"
      },
      "outputs": [],
      "source": [
        "for doc in docs:\n",
        "    print(str(doc) + \"\\n\\n\" + \"-\" * 80)"
      ]
    },
    {
      "cell_type": "markdown",
      "id": "69060724-e390-4dda-8250-5f86025c874a",
      "metadata": {
        "id": "69060724-e390-4dda-8250-5f86025c874a"
      },
      "source": [
        "## RAG pipeline"
      ]
    },
    {
      "cell_type": "code",
      "execution_count": 51,
      "id": "771a47fa-1267-4db8-a6ae-5fde48bbc069",
      "metadata": {
        "id": "771a47fa-1267-4db8-a6ae-5fde48bbc069"
      },
      "outputs": [],
      "source": [
        "from langchain_core.runnables import RunnablePassthrough, RunnableLambda\n",
        "from langchain_core.messages import SystemMessage, HumanMessage\n",
        "from langchain_google_genai import ChatGoogleGenerativeAI\n",
        "from base64 import b64decode\n",
        "\n",
        "\n",
        "def parse_docs(docs):\n",
        "    \"\"\"Split base64-encoded images and texts\"\"\"\n",
        "    b64 = []\n",
        "    text = []\n",
        "    for doc in docs:\n",
        "        try:\n",
        "            b64decode(doc)\n",
        "            b64.append(doc)\n",
        "        except Exception as e:\n",
        "            text.append(doc)\n",
        "    return {\"images\": b64, \"texts\": text}\n",
        "\n",
        "\n",
        "def build_prompt(kwargs):\n",
        "\n",
        "    docs_by_type = kwargs[\"context\"]\n",
        "    user_question = kwargs[\"question\"]\n",
        "\n",
        "    context_text = \"\"\n",
        "    if len(docs_by_type[\"texts\"]) > 0:\n",
        "        for text_element in docs_by_type[\"texts\"]:\n",
        "            context_text += text_element.text\n",
        "\n",
        "    # construct prompt with context (including images)\n",
        "    prompt_template = f\"\"\"\n",
        "    Answer the question based only on the following context, which can include text, tables, and the below image.\n",
        "    Context: {context_text}\n",
        "    Question: {user_question}\n",
        "    \"\"\"\n",
        "\n",
        "    prompt_content = [{\"type\": \"text\", \"text\": prompt_template}]\n",
        "\n",
        "    if len(docs_by_type[\"images\"]) > 0:\n",
        "        for image in docs_by_type[\"images\"]:\n",
        "            prompt_content.append(\n",
        "                {\n",
        "                    \"type\": \"image_url\",\n",
        "                    \"image_url\": {\"url\": f\"data:image/jpeg;base64,{image}\"},\n",
        "                }\n",
        "            )\n",
        "\n",
        "    return ChatPromptTemplate.from_messages(\n",
        "        [\n",
        "            HumanMessage(content=prompt_content),\n",
        "        ]\n",
        "    )\n",
        "\n",
        "\n",
        "chain = (\n",
        "    {\n",
        "        \"context\": retriever | RunnableLambda(parse_docs),\n",
        "        \"question\": RunnablePassthrough(),\n",
        "    }\n",
        "    | RunnableLambda(build_prompt)\n",
        "    | modell\n",
        "    | StrOutputParser()\n",
        ")\n",
        "\n",
        "chain_with_sources = {\n",
        "    \"context\": retriever | RunnableLambda(parse_docs),\n",
        "    \"question\": RunnablePassthrough(),\n",
        "} | RunnablePassthrough().assign(\n",
        "    response=(\n",
        "        RunnableLambda(build_prompt)\n",
        "        | modell\n",
        "        | StrOutputParser()\n",
        "    )\n",
        ")"
      ]
    },
    {
      "cell_type": "code",
      "execution_count": 52,
      "id": "ea8414a8-65ee-4e11-8154-029b454f46af",
      "metadata": {
        "colab": {
          "base_uri": "https://localhost:8080/"
        },
        "id": "ea8414a8-65ee-4e11-8154-029b454f46af",
        "outputId": "92cdfcbe-33a5-4111-8663-9a1e8b903509"
      },
      "outputs": [
        {
          "output_type": "stream",
          "name": "stdout",
          "text": [
            "I cannot answer the question \"What is the curriculum?\" because the provided context does not contain any information about the curriculum.\n"
          ]
        }
      ],
      "source": [
        "response = chain.invoke(\n",
        "    \"What is the curriculum?\"\n",
        ")\n",
        "\n",
        "print(response)"
      ]
    },
    {
      "cell_type": "code",
      "execution_count": 99,
      "id": "e4adfeba",
      "metadata": {
        "id": "e4adfeba",
        "outputId": "4b6ba98d-7145-4f08-f8ce-1402b5488126",
        "colab": {
          "base_uri": "https://localhost:8080/"
        }
      },
      "outputs": [
        {
          "output_type": "stream",
          "name": "stdout",
          "text": [
            "Response: Based on the context, curriculum:\n",
            "\n",
            "*   Attaches great importance to democratic norms and positive cultural values.\n",
            "*   Creates thrust for creativity, development of critical thinking, discussion and debate.\n",
            "*   Develops among students the skills of inquiry, research, and build the capacity of learning, behaving, acting and communicating.\n",
            "*   Plays an important role in promoting national integration.\n",
            "\n",
            "\n",
            "Context:\n",
            "Page 1 of 77\n",
            "\n",
            "relationship, tolerance and harmony in society. It attaches great importance to democratic norms and positive cultural values. The curriculum creates thrust for creativity, development of critical thinking, discussion and debate. It develops among students the skills of inquiry, research, and build the capacity of learning, behaving, acting and communicating. The curriculum plays an important role in promoting national integration.\n",
            "\n",
            "Page 2 of 77\n",
            "\n",
            "Curriculum standards and Benchmarks\n",
            "\n",
            "2.0 Curriculum Standards and Benchmarks\n",
            "\n",
            "HISTORY\n",
            "\n",
            "History is the study of the past so as to understand the present and predict the future. It draws upon a variety of historical records and compares interpretations, provides students with different perspectives and promotes the appreciation of individual existence in a global context.\n",
            "\n",
            "STANDARD -1\n",
            "\n",
            "All students will learn and use chronological skills to sequence key historical events, to identify relationships, explain cause and effect and describe patterns of historical change and continuity.\n",
            "\n",
            "BENCHMARK\n",
            "\n",
            "VI – VIII IX –X XI – XII • Use key concepts such as • Use key concepts of • Use key concepts of chronology, causality, chronology, cause and chronology, cause and change, conflict and effect, change and effect, change and complexity to identify continuity, and continuity, and relationships and explain relationship between relationship between historical development historical events, British historical events, by unfolding the process policies and response of Leading partition (1947- of continuity and change people to it during the 2018). in historical events. British era (1857 – 1947). • Understand the different • Understand the different forms of colonization forms of rules including (Take over, reasons of democratic and non- being attracted towards democratic in historical India) imperial rule, perspective of Pakistan. freedom and independence.\n",
            "\n",
            "Page 3 of 77\n",
            "\n",
            "Curriculum standards and Benchmarks\n",
            "\n",
            "STANDARD -2\n",
            "\n",
            "All students will understand, interpret and reconstruct narratives of the past (identify people involved, describe setting, sequence events, compare interpretation of events, and create narratives from evidence) by using various sources of historical knowledge.\n",
            "Page number:  4\n",
            "\n",
            "--------------------------------------------------\n",
            "\n",
            "Basic features of a textbook\n",
            "\n",
            "• The textbooks serve as a framework for teaching through the year.\n",
            "\n",
            "• Must have accurate and up-to-date material.\n",
            "\n",
            "• The material must be sufficient to give students the knowledge they need to understand the concepts, develop the skills and engage in higher order thinking.\n",
            "\n",
            "• The material should help students understand the world in which they live, prepare for exams, prepare for life, and raise their standard.\n",
            "\n",
            "• The materials must be mistake free so it can be trusted.\n",
            "\n",
            "• The material must be unbiased.\n",
            "\n",
            "• The book must be attractive and engaging.\n",
            "\n",
            "Illustrations must vary from page to page.\n",
            "\n",
            "• Activities suggested must vary from page to page.\n",
            "\n",
            "• End-of-the-chapter exercise must vary from chapter to chapter. They should encourage students to think, develop skills, and use information for a variety of purpose.\n",
            "\n",
            "Page 72 of 77\n",
            "\n",
            "• Table of contents including subtopics.\n",
            "\n",
            "• Index\n",
            "\n",
            "• Glossary\n",
            "\n",
            "Introduction to textbook explaining how to use the textbook.\n",
            "\n",
            "• Must be contextually relevant (feasible to use in classrooms, affordable, examples from context to increase relevance and meaning)\n",
            "\n",
            "How to start writing textbook\n",
            "\n",
            "Planning\n",
            "\n",
            "• Decide on a topic (in relation to the curriculum)\n",
            "\n",
            "• Review Curriculum to identify learning outcomes that are to be met for each chapter.\n",
            "\n",
            "• Decide on the key ideas to be included in each chapter.\n",
            "\n",
            "• Organize the key ideas.\n",
            "\n",
            "• Decide which facts and concepts are to be included, what vocabulary/terms will be used, what values and skills can be developed.\n",
            "\n",
            "• Decide which illustrations are to be used and prepare an art brief for the illustrator and designer.\n",
            "\n",
            "• Decide which activities would develop further understanding of the concepts\n",
            "\n",
            "Writing\n",
            "\n",
            "• Write as if talking to a group.\n",
            "\n",
            "Ensure accuracy and authenticity of facts\n",
            "\n",
            "Edit\n",
            "\n",
            "In line with curriculum\n",
            "\n",
            "\\\n",
            "\n",
            "In keeping with local teaching/learning environment\n",
            "\n",
            "• Check meaning hasn’t changed even if words have.\n",
            "\n",
            "Include activities.\n",
            "\n",
            "Design\n",
            "\n",
            "• Designer finalizes layout of the text. Illustrator prepares illustrations.\n",
            "\n",
            "• To make writing and studying the textbook easy, colour coding, different levels of headings, etc. can be used.\n",
            "\n",
            "Edit\n",
            "\n",
            "• Check clarity of illustration, captions, activities etc.\n",
            "Page number:  75\n",
            "\n",
            "--------------------------------------------------\n",
            "\n",
            "4.0 Instructional Strategies\n",
            "\n",
            "Evidence from most Pakistani classrooms indicates that teaching and learning follow what Freire (1970) calls “The banking concept of education” in which teachers “transmit” textbook facts to students who are expected to memorize and regurgitate these facts in examinations. This is because teachers have themselves, as students, learned in this way, have been trained in this way, and have found that the methods of lecture and recitation are a good way of helping students in large classrooms, to memorize textbook facts so as to do well in examinations. While it is important that we ensure students do well in examinations, it is also necessary that the education we provide prepares students for life in modern society, enhances students' chances of employability and develops their social consciousness so that they become agents of positive social change.\n",
            "\n",
            "One of the ways in which we can prepare students for the varied roles they will play in the modern society is through the use of instructional strategies that not only facilitate students' academic learning but also aid the development of a number of skills and values, promote their psychological health and prepare them to take responsible actions to improve society. We know that within any class of students there will be a range of interests, abilities, and styles of learning. Therefore, the teaching strategies we use should vary so that we facilitate the learning of all students.\n",
            "\n",
            "We begin this section with the lecture method as it is the method teachers are most familiar with.\n",
            "\n",
            "A lecture is a method in which the teacher transmits ideas, concepts, and information to the students. A lecture allows a teacher to provide knowledge and explain key concepts quickly to large groups of students. The lack of active mental engagement by students makes the lecture boring and students lose interest which hinders learning. We suggest that teachers should add some activities to stimulate the students' active engagement in the lecture.\n",
            "\n",
            "A discussion is a form of group interaction in which students come together to address questions regarding something which they need to understand, appreciate or decide (Dillon, 1994). There are several benefits of discussion: students increase their knowledge of the topic discussed; explore a diversity of ideas, views, and experiences; learn to respect others’ views and opinions; gain communicative competence (Dillion, 1994) and learn the art of democratic discourse.\n",
            "\n",
            "Role-playing is a teaching strategy in which students learn by acting and observing. Students learn the content being presented in the role-play. In addition, role-playing facilitates the development of problem-solving, communication and social skills (Blatner, 2002). Cooperative learning involves the instructional use of small groups in which students work together to maximize their own and each other’s learnings. Academic, social and psychological benefits are associated with working collaboratively in groups. Research shows that there is increased higher-order thinking, a better understanding of the material, and improved attitudes towards self, school, and teachers (Johnson, Johnson and Holubec 1993; Dean, 1995).\n",
            "Page number:  32\n",
            "\n",
            "--------------------------------------------------\n",
            "\n"
          ]
        }
      ],
      "source": [
        "response = chain_with_sources.invoke(\n",
        "    \"What is curriculum?\"\n",
        ")\n",
        "\n",
        "print(\"Response:\", response['response'])\n",
        "\n",
        "print(\"\\n\\nContext:\")\n",
        "for text in response['context']['texts']:\n",
        "    print(text.text)\n",
        "    print(\"Page number: \", text.metadata.page_number)\n",
        "    print(\"\\n\" + \"-\"*50 + \"\\n\")\n",
        "for image in response['context']['images']:\n",
        "    display_base64_image(image)"
      ]
    },
    {
      "cell_type": "markdown",
      "id": "90cd3714",
      "metadata": {
        "id": "90cd3714"
      },
      "source": [
        "## References\n",
        "\n",
        "- [LangChain Inspiration](https://github.com/langchain-ai/langchain/blob/master/cookbook/Semi_structured_and_multi_modal_RAG.ipynb?ref=blog.langchain.dev)\n",
        "- [Multivector Storage](https://python.langchain.com/docs/how_to/multi_vector/)"
      ]
    }
  ],
  "metadata": {
    "colab": {
      "provenance": [],
      "collapsed_sections": [
        "74b56bde-1ba0-4525-a11d-cab02c5659e4",
        "8b55862c",
        "b1feadda-8171-4aed-9a60-320a88dc9ee1",
        "bb4d2379",
        "2bf26669",
        "4b45fb81-46b1-426e-aa2c-01aed4eac700",
        "69060724-e390-4dda-8250-5f86025c874a"
      ],
      "include_colab_link": true
    },
    "kernelspec": {
      "display_name": "mm-rag",
      "language": "python",
      "name": "python3"
    },
    "language_info": {
      "codemirror_mode": {
        "name": "ipython",
        "version": 3
      },
      "file_extension": ".py",
      "mimetype": "text/x-python",
      "name": "python",
      "nbconvert_exporter": "python",
      "pygments_lexer": "ipython3",
      "version": "3.12.7"
    }
  },
  "nbformat": 4,
  "nbformat_minor": 5
}